{
 "cells": [
  {
   "cell_type": "code",
   "execution_count": 4,
   "id": "a9c7c418",
   "metadata": {},
   "outputs": [
    {
     "name": "stdout",
     "output_type": "stream",
     "text": [
      "    First Name  Gender  Start Date Last Login Time  Salary  Bonus %  \\\n",
      "0      Douglas    Male    8/6/1993        12:42 PM   97308    6.945   \n",
      "1       Thomas    Male   3/31/1996         6:53 AM   61933    4.170   \n",
      "2        Maria  Female   4/23/1993        11:17 AM  130590   11.858   \n",
      "3        Jerry    Male    3/4/2005         1:00 PM  138705    9.340   \n",
      "4        Larry    Male   1/24/1998         4:47 PM  101004    1.389   \n",
      "..         ...     ...         ...             ...     ...      ...   \n",
      "995      Henry     NaN  11/23/2014         6:09 AM  132483   16.655   \n",
      "996    Phillip    Male   1/31/1984         6:30 AM   42392   19.675   \n",
      "997    Russell    Male   5/20/2013        12:39 PM   96914    1.421   \n",
      "998      Larry    Male   4/20/2013         4:45 PM   60500   11.985   \n",
      "999     Albert    Male   5/15/2012         6:24 PM  129949   10.169   \n",
      "\n",
      "    Senior Management                  Team  \n",
      "0                True             Marketing  \n",
      "1                True                   NaN  \n",
      "2               False               Finance  \n",
      "3                True               Finance  \n",
      "4                True       Client Services  \n",
      "..                ...                   ...  \n",
      "995             False          Distribution  \n",
      "996             False               Finance  \n",
      "997             False               Product  \n",
      "998             False  Business Development  \n",
      "999              True                 Sales  \n",
      "\n",
      "[1000 rows x 8 columns]\n",
      "<class 'pandas.core.frame.DataFrame'>\n",
      "RangeIndex: 1000 entries, 0 to 999\n",
      "Data columns (total 8 columns):\n",
      " #   Column             Non-Null Count  Dtype  \n",
      "---  ------             --------------  -----  \n",
      " 0   First Name         933 non-null    object \n",
      " 1   Gender             855 non-null    object \n",
      " 2   Start Date         1000 non-null   object \n",
      " 3   Last Login Time    1000 non-null   object \n",
      " 4   Salary             1000 non-null   int64  \n",
      " 5   Bonus %            1000 non-null   float64\n",
      " 6   Senior Management  933 non-null    object \n",
      " 7   Team               957 non-null    object \n",
      "dtypes: float64(1), int64(1), object(6)\n",
      "memory usage: 62.6+ KB\n"
     ]
    }
   ],
   "source": [
    "import pandas as pd\n",
    "d=pd.read_csv(\"C:/Users/TCS/Desktop/EEE 73/employees - employees.csv\")\n",
    "print(d)\n",
    "df.head()\n",
    "df.info()\n"
   ]
  },
  {
   "cell_type": "code",
   "execution_count": 6,
   "id": "7c4be7a4",
   "metadata": {},
   "outputs": [
    {
     "name": "stdout",
     "output_type": "stream",
     "text": [
      "\n",
      "Get the columns heading\n",
      " Index(['First Name', 'Gender', 'Start Date', 'Last Login Time', 'Salary',\n",
      "       'Bonus %', 'Senior Management', 'Team'],\n",
      "      dtype='object')\n"
     ]
    }
   ],
   "source": [
    "df=pd.DataFrame(d)\n",
    "print(\"\\nGet the columns heading\\n\",df.columns)"
   ]
  },
  {
   "cell_type": "code",
   "execution_count": 7,
   "id": "8db6bf45",
   "metadata": {},
   "outputs": [
    {
     "name": "stdout",
     "output_type": "stream",
     "text": [
      "\n",
      "Get the shape-(no of rows,no of columns)\n",
      " (1000, 8)\n"
     ]
    }
   ],
   "source": [
    "print(\"\\nGet the shape-(no of rows,no of columns)\\n\",df.shape)"
   ]
  },
  {
   "cell_type": "code",
   "execution_count": 8,
   "id": "a3ec2bb7",
   "metadata": {},
   "outputs": [
    {
     "name": "stdout",
     "output_type": "stream",
     "text": [
      "\n",
      "Get particular column values\n",
      " 0        Male\n",
      "1        Male\n",
      "2      Female\n",
      "3        Male\n",
      "4        Male\n",
      "        ...  \n",
      "995       NaN\n",
      "996      Male\n",
      "997      Male\n",
      "998      Male\n",
      "999      Male\n",
      "Name: Gender, Length: 1000, dtype: object\n"
     ]
    }
   ],
   "source": [
    "print(\"\\nGet particular column values\\n\",df['Gender'])"
   ]
  },
  {
   "cell_type": "code",
   "execution_count": 9,
   "id": "9194d7f7",
   "metadata": {},
   "outputs": [
    {
     "name": "stdout",
     "output_type": "stream",
     "text": [
      "\n",
      "Extract/slice the table values-[including this row,excliding this row]\n",
      "   First Name  Gender Start Date Last Login Time  Salary  Bonus %  \\\n",
      "2      Maria  Female  4/23/1993        11:17 AM  130590   11.858   \n",
      "3      Jerry    Male   3/4/2005         1:00 PM  138705    9.340   \n",
      "4      Larry    Male  1/24/1998         4:47 PM  101004    1.389   \n",
      "\n",
      "  Senior Management             Team  \n",
      "2             False          Finance  \n",
      "3              True          Finance  \n",
      "4              True  Client Services  \n"
     ]
    }
   ],
   "source": [
    "print(\"\\nExtract/slice the table values-[including this row,excliding this row]\\n\",df[2:5])"
   ]
  },
  {
   "cell_type": "code",
   "execution_count": 10,
   "id": "5e56353d",
   "metadata": {},
   "outputs": [
    {
     "name": "stdout",
     "output_type": "stream",
     "text": [
      "\n",
      "Get the particular row values- through row number identifiaction\n",
      " First Name                 NaN\n",
      "Gender                  Female\n",
      "Start Date           7/20/2015\n",
      "Last Login Time       10:43 AM\n",
      "Salary                   45906\n",
      "Bonus %                 11.598\n",
      "Senior Management          NaN\n",
      "Team                   Finance\n",
      "Name: 7, dtype: object\n"
     ]
    }
   ],
   "source": [
    "print(\"\\nGet the particular row values- through row number identifiaction\\n\",df.loc[7])"
   ]
  },
  {
   "cell_type": "code",
   "execution_count": 12,
   "id": "10e5eac8",
   "metadata": {},
   "outputs": [
    {
     "name": "stdout",
     "output_type": "stream",
     "text": [
      "\n",
      "Get the particular row values through 'Salary'\n",
      " Empty DataFrame\n",
      "Columns: [First Name, Gender, Start Date, Last Login Time, Salary, Bonus %, Senior Management, Team]\n",
      "Index: []\n"
     ]
    }
   ],
   "source": [
    "print(\"\\nGet the particular row values through 'Salary'\\n\",d.loc[d['Salary']==203])"
   ]
  },
  {
   "cell_type": "code",
   "execution_count": 13,
   "id": "5319e4ae",
   "metadata": {},
   "outputs": [
    {
     "name": "stdout",
     "output_type": "stream",
     "text": [
      "\n",
      "Make an average of salary:\n",
      " 0       97308\n",
      "1       61933\n",
      "2      130590\n",
      "3      138705\n",
      "4      101004\n",
      "        ...  \n",
      "995    132483\n",
      "996     42392\n",
      "997     96914\n",
      "998     60500\n",
      "999    129949\n",
      "Name: Salary, Length: 1000, dtype: int64\n"
     ]
    }
   ],
   "source": [
    "df=d['Salary']\n",
    "print(\"\\nMake an average of salary:\\n\",df)"
   ]
  },
  {
   "cell_type": "code",
   "execution_count": null,
   "id": "5a75a1b8",
   "metadata": {},
   "outputs": [],
   "source": []
  }
 ],
 "metadata": {
  "kernelspec": {
   "display_name": "Python 3 (ipykernel)",
   "language": "python",
   "name": "python3"
  },
  "language_info": {
   "codemirror_mode": {
    "name": "ipython",
    "version": 3
   },
   "file_extension": ".py",
   "mimetype": "text/x-python",
   "name": "python",
   "nbconvert_exporter": "python",
   "pygments_lexer": "ipython3",
   "version": "3.11.3"
  }
 },
 "nbformat": 4,
 "nbformat_minor": 5
}
