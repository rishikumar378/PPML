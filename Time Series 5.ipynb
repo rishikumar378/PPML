{
 "cells": [
  {
   "cell_type": "code",
   "execution_count": 1,
   "id": "5d786e20-a4bb-4b20-9304-a675a85d13d2",
   "metadata": {},
   "outputs": [],
   "source": [
    "import pandas as pd\n",
    "import numpy as np\n",
    "from datetime import datetime\n"
   ]
  },
  {
   "cell_type": "code",
   "execution_count": 2,
   "id": "c624473d-f7cd-4a10-8c1d-b43f58fdd345",
   "metadata": {},
   "outputs": [],
   "source": [
    "dates = [datetime(2020,1,5),\n",
    "datetime(2020,1,10),\n",
    "datetime(2020,1,15),\n",
    "datetime(2020,1,20),\n",
    "datetime(2020,1,25)]\n"
   ]
  },
  {
   "cell_type": "code",
   "execution_count": 3,
   "id": "ad45d631-81fa-4dc1-9a0d-49040a7057ce",
   "metadata": {},
   "outputs": [
    {
     "name": "stdout",
     "output_type": "stream",
     "text": [
      "\n",
      "With this date object, create a series with datetime index:\n",
      " 2020-01-05   -0.627371\n",
      "2020-01-10   -0.149034\n",
      "2020-01-15   -2.651444\n",
      "2020-01-20   -1.660894\n",
      "2020-01-25    0.524741\n",
      "dtype: float64\n"
     ]
    }
   ],
   "source": [
    "ts = pd.Series(np.random.randn(5), index=dates)\n",
    "print(\"\\nWith this date object, create a series with datetime index:\\n\",ts)\n"
   ]
  },
  {
   "cell_type": "code",
   "execution_count": 4,
   "id": "7545008e-d755-43fd-b3a7-4138956c27be",
   "metadata": {},
   "outputs": [
    {
     "name": "stdout",
     "output_type": "stream",
     "text": [
      "\n",
      "Truncate method to truncate datetime series:\n",
      " 2020-01-05   -0.627371\n",
      "2020-01-10   -0.149034\n",
      "2020-01-15   -2.651444\n",
      "dtype: float64\n"
     ]
    }
   ],
   "source": [
    "res=ts.truncate(after=\"1/15/2020\")\n",
    "print(\"\\nTruncate method to truncate datetime series:\\n\", res)\n"
   ]
  },
  {
   "cell_type": "code",
   "execution_count": 5,
   "id": "61100f52-e0d5-43ee-a838-595641a3b682",
   "metadata": {},
   "outputs": [
    {
     "name": "stdout",
     "output_type": "stream",
     "text": [
      "\n",
      "Date range with day periods:\n",
      " DatetimeIndex(['2022-10-02', '2022-10-09', '2022-10-16', '2022-10-23',\n",
      "               '2022-10-30', '2022-11-06', '2022-11-13', '2022-11-20',\n",
      "               '2022-11-27', '2022-12-04'],\n",
      "              dtype='datetime64[ns]', freq='W-SUN')\n"
     ]
    }
   ],
   "source": [
    "da=pd.date_range(\"10/1/2022\", periods=10, freq=\"W-SUN\")\n",
    "print(\"\\nDate range with day periods:\\n\",da)\n"
   ]
  },
  {
   "cell_type": "code",
   "execution_count": 6,
   "id": "20cf0e87-aa64-44a9-a52b-9645c5cc9645",
   "metadata": {},
   "outputs": [
    {
     "name": "stdout",
     "output_type": "stream",
     "text": [
      "\n",
      "Multi-column DateFrame with datetime index:\n",
      "                    A         B         C         D\n",
      "2022-10-02 -1.775544 -0.316386 -0.795069 -0.331624\n",
      "2022-10-09  0.414995  0.225109  0.676100  0.256360\n",
      "2022-10-16  0.587585 -0.672371  0.518781 -0.787892\n",
      "2022-10-23 -0.092918  0.327517  0.271147  0.198250\n",
      "2022-10-30  0.479101  1.071361  0.728934  1.873719\n",
      "2022-11-06  1.734117  0.050026 -0.884755  0.598435\n",
      "2022-11-13  0.740428  0.337854 -0.373054 -0.418442\n",
      "2022-11-20  1.583602 -1.345889  0.134062 -1.496784\n",
      "2022-11-27  0.693866 -1.366690  0.188907  1.381013\n",
      "2022-12-04 -2.061223  0.225772  2.801333  0.161532\n"
     ]
    }
   ],
   "source": [
    "long_df=pd.DataFrame(np.random.randn(10,4), index=da, columns=list(\"ABCD\"))\n",
    "print(\"\\nMulti-column DateFrame with datetime index:\\n\",long_df)"
   ]
  },
  {
   "cell_type": "code",
   "execution_count": 7,
   "id": "6c63f493-1ac7-4fbf-9564-82b1b5be4cf5",
   "metadata": {},
   "outputs": [
    {
     "name": "stdout",
     "output_type": "stream",
     "text": [
      "\n",
      "Duplicate datetime index:\n",
      " 2020-01-01    0\n",
      "2020-01-02    1\n",
      "2020-01-02    2\n",
      "2020-01-02    3\n",
      "2020-01-03    4\n",
      "dtype: int64\n"
     ]
    }
   ],
   "source": [
    "date=pd.DatetimeIndex([\"1/1/2020\",\"1/2/2020\",\"1/2/2020\",\"1/2/2020\",\"1/3/2020\"])\n",
    "ts1=pd.Series(np.arange(5), index=date)\n",
    "print(\"\\nDuplicate datetime index:\\n\",ts1)\n"
   ]
  },
  {
   "cell_type": "code",
   "execution_count": 8,
   "id": "65520d30-f447-4242-ac68-b7e70151c8ac",
   "metadata": {},
   "outputs": [
    {
     "name": "stdout",
     "output_type": "stream",
     "text": [
      "\n",
      "Repeated date counts:\n",
      " 2020-01-01    1\n",
      "2020-01-02    3\n",
      "2020-01-03    1\n",
      "dtype: int64\n"
     ]
    }
   ],
   "source": [
    "group=ts1.groupby(level=0)\n",
    "print(\"\\nRepeated date counts:\\n\",group.count())"
   ]
  },
  {
   "cell_type": "code",
   "execution_count": null,
   "id": "ac96dc27-9b35-435f-9060-d7057624464d",
   "metadata": {},
   "outputs": [],
   "source": []
  }
 ],
 "metadata": {
  "kernelspec": {
   "display_name": "Python 3 (ipykernel)",
   "language": "python",
   "name": "python3"
  },
  "language_info": {
   "codemirror_mode": {
    "name": "ipython",
    "version": 3
   },
   "file_extension": ".py",
   "mimetype": "text/x-python",
   "name": "python",
   "nbconvert_exporter": "python",
   "pygments_lexer": "ipython3",
   "version": "3.12.4"
  }
 },
 "nbformat": 4,
 "nbformat_minor": 5
}
