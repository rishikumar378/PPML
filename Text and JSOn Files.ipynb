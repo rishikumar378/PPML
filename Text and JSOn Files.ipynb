{
 "cells": [
  {
   "cell_type": "code",
   "execution_count": 12,
   "id": "32941c91",
   "metadata": {},
   "outputs": [],
   "source": [
    "f=open(\"C:/Users/TCS/Desktop/EEE 73/73.txt\",'w')"
   ]
  },
  {
   "cell_type": "code",
   "execution_count": 13,
   "id": "a199d545",
   "metadata": {},
   "outputs": [
    {
     "data": {
      "text/plain": [
       "18"
      ]
     },
     "execution_count": 13,
     "metadata": {},
     "output_type": "execute_result"
    }
   ],
   "source": [
    "f.write(\"22091073_PRAVEEN RAJ A\\n \")\n",
    "f.write(\"1st sem- 8.34gpa\\n \")\n",
    "f.write(\"2nd sem- 8.19gpa\\n \")\n",
    "f.write(\"3rd sem- 8.54gpa\\n \")"
   ]
  },
  {
   "cell_type": "code",
   "execution_count": 14,
   "id": "d14f22f5",
   "metadata": {},
   "outputs": [],
   "source": [
    "f.close()"
   ]
  },
  {
   "cell_type": "code",
   "execution_count": 16,
   "id": "d1659e73",
   "metadata": {},
   "outputs": [
    {
     "name": "stdout",
     "output_type": "stream",
     "text": [
      "22091073_PRAVEEN RAJ A\n",
      "\n",
      " 1st sem- 8.34gpa\n",
      "\n"
     ]
    }
   ],
   "source": [
    "f=open(\"C:/Users/TCS/Desktop/EEE 73/73.txt\",'r')\n",
    "print(f.readline())\n",
    "print(f.readline())\n",
    "f.close()"
   ]
  },
  {
   "cell_type": "code",
   "execution_count": 17,
   "id": "a504533b",
   "metadata": {},
   "outputs": [],
   "source": [
    "f=open(\"C:/Users/TCS/Desktop/EEE 73/73.txt\",'a')\n",
    "f.write(\"4th sem- 8.24gpa\\n \")\n",
    "f.write(\"overall- 8.36 cgpa\")\n",
    "f.close()"
   ]
  },
  {
   "cell_type": "code",
   "execution_count": 18,
   "id": "794b8166",
   "metadata": {},
   "outputs": [
    {
     "name": "stdout",
     "output_type": "stream",
     "text": [
      "22091073_PRAVEEN RAJ A\n",
      " 1st sem- 8.34gpa\n",
      " 2nd sem- 8.19gpa\n",
      " 3rd sem- 8.54gpa\n",
      " 4th sem- 8.24gpa\n",
      " overall- 8.36 cgpa\n"
     ]
    },
    {
     "data": {
      "text/plain": [
       "<function TextIOWrapper.close()>"
      ]
     },
     "execution_count": 18,
     "metadata": {},
     "output_type": "execute_result"
    }
   ],
   "source": [
    "f=open(\"C:/Users/TCS/Desktop/EEE 73/73.txt\",'r')\n",
    "print(f.read())\n",
    "f.close"
   ]
  },
  {
   "cell_type": "code",
   "execution_count": 20,
   "id": "b79b3eb4",
   "metadata": {},
   "outputs": [
    {
     "name": "stdout",
     "output_type": "stream",
     "text": [
      "['22091073_PRAVEEN RAJ A\\n', ' 1st sem- 8.34gpa\\n', ' 2nd sem- 8.19gpa\\n', ' 3rd sem- 8.54gpa\\n', ' 4th sem- 8.24gpa\\n', ' overall- 8.36 cgpa']\n"
     ]
    }
   ],
   "source": [
    "f=open(\"C:/Users/TCS/Desktop/EEE 73/73.txt\",'r')\n",
    "lines=f.readlines()\n",
    "print(lines)"
   ]
  },
  {
   "cell_type": "code",
   "execution_count": 27,
   "id": "a4e517ee",
   "metadata": {},
   "outputs": [
    {
     "name": "stdout",
     "output_type": "stream",
     "text": [
      "19\n"
     ]
    }
   ],
   "source": [
    "import json \n",
    "x='{\"Name\":\"PRAVEEN RAJ A\",\"AGE\":\"19\",\"college\":\"REC\"}'\n",
    "y=json.loads(x)\n",
    "print(y[\"AGE\"])"
   ]
  },
  {
   "cell_type": "code",
   "execution_count": 28,
   "id": "900023ba",
   "metadata": {},
   "outputs": [
    {
     "name": "stdout",
     "output_type": "stream",
     "text": [
      "\"{\\\"Name\\\":\\\"PRAVEEN RAJ A\\\",\\\"AGE\\\":\\\"19\\\",\\\"college\\\":\\\"REC\\\"}\"\n"
     ]
    }
   ],
   "source": [
    "y=json.dumps(x)\n",
    "print(y)"
   ]
  },
  {
   "cell_type": "code",
   "execution_count": null,
   "id": "073fedca",
   "metadata": {},
   "outputs": [],
   "source": []
  }
 ],
 "metadata": {
  "kernelspec": {
   "display_name": "Python 3 (ipykernel)",
   "language": "python",
   "name": "python3"
  },
  "language_info": {
   "codemirror_mode": {
    "name": "ipython",
    "version": 3
   },
   "file_extension": ".py",
   "mimetype": "text/x-python",
   "name": "python",
   "nbconvert_exporter": "python",
   "pygments_lexer": "ipython3",
   "version": "3.11.3"
  }
 },
 "nbformat": 4,
 "nbformat_minor": 5
}
