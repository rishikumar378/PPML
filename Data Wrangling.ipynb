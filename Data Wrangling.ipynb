{
 "cells": [
  {
   "cell_type": "code",
   "execution_count": 1,
   "id": "f859f725",
   "metadata": {},
   "outputs": [],
   "source": [
    "import pandas as pd"
   ]
  },
  {
   "cell_type": "code",
   "execution_count": 4,
   "id": "6cbe1957",
   "metadata": {},
   "outputs": [
    {
     "name": "stdout",
     "output_type": "stream",
     "text": [
      "     Name                 Top Subjects  Marks\n",
      "0   Nitin  Special Electrical Machines     69\n",
      "1  Pranav               Soft Computing     74\n"
     ]
    }
   ],
   "source": [
    "data = pd.DataFrame({\n",
    "    'Name':['Nitin','Pranav'],\n",
    "    ' Top Subjects':['Special Electrical Machines','Soft Computing'],\n",
    "    'Marks':[69,74]\n",
    "})\n",
    "print(data)"
   ]
  },
  {
   "cell_type": "code",
   "execution_count": 5,
   "id": "8e63365f",
   "metadata": {},
   "outputs": [
    {
     "name": "stdout",
     "output_type": "stream",
     "text": [
      "            Name                  Top Subjects  Marks\n",
      "0   Rohan Sanjay          Analog system design     64\n",
      "1  Tamil Pandian             Electrical drives     65\n",
      "2          Suren  Basic mechanical Engineeerng     63\n"
     ]
    }
   ],
   "source": [
    "data1=pd.DataFrame({\n",
    "    'Name':['Rohan Sanjay','Tamil Pandian','Suren'],\n",
    "    'Top Subjects':['Analog system design','Electrical drives','Basic mechanical Engineeerng'],\n",
    "    'Marks':[64,65,63]\n",
    "})\n",
    "print(data1)"
   ]
  },
  {
   "cell_type": "code",
   "execution_count": 15,
   "id": "936f13f8",
   "metadata": {},
   "outputs": [
    {
     "name": "stdout",
     "output_type": "stream",
     "text": [
      "            Name                 Top Subjects  Marks  \\\n",
      "0          Nitin  Special Electrical Machines     69   \n",
      "1         Pranav               Soft Computing     74   \n",
      "2   Rohan Sanjay                          NaN     64   \n",
      "3  Tamil Pandian                          NaN     65   \n",
      "4          Suren                          NaN     63   \n",
      "\n",
      "                   Top Subjects  \n",
      "0                           NaN  \n",
      "1                           NaN  \n",
      "2          Analog system design  \n",
      "3             Electrical drives  \n",
      "4  Basic mechanical Engineeerng  \n"
     ]
    }
   ],
   "source": [
    "a=data.merge(data1,how='outer')\n",
    "print(a)"
   ]
  },
  {
   "cell_type": "code",
   "execution_count": 16,
   "id": "6132c5b0",
   "metadata": {},
   "outputs": [
    {
     "name": "stdout",
     "output_type": "stream",
     "text": [
      "            Name                 Top Subjects  Marks  \\\n",
      "0          Nitin  Special Electrical Machines     69   \n",
      "1         Pranav               Soft Computing     74   \n",
      "2   Rohan Sanjay                          NaN     64   \n",
      "3  Tamil Pandian                          NaN     65   \n",
      "4          Suren                          NaN     63   \n",
      "\n",
      "                   Top Subjects blood group  \n",
      "0                           NaN          o+  \n",
      "1                           NaN          o+  \n",
      "2          Analog system design          o+  \n",
      "3             Electrical drives          A+  \n",
      "4  Basic mechanical Engineeerng          o+  \n"
     ]
    }
   ],
   "source": [
    "data2=pd.DataFrame({\n",
    "    'blood group':['o+','o+','o+','A+','o+']\n",
    "})\n",
    "print(a.join(data2))"
   ]
  },
  {
   "cell_type": "code",
   "execution_count": 20,
   "id": "32f69a29",
   "metadata": {},
   "outputs": [
    {
     "name": "stdout",
     "output_type": "stream",
     "text": [
      "             Name                 Top Subjects  Marks  \\\n",
      "0           Nitin  Special Electrical Machines     69   \n",
      "1           Nitin  Special Electrical Machines     69   \n",
      "2           Nitin  Special Electrical Machines     69   \n",
      "3           Nitin  Special Electrical Machines     69   \n",
      "4           Nitin  Special Electrical Machines     69   \n",
      "5          Pranav               Soft Computing     74   \n",
      "6          Pranav               Soft Computing     74   \n",
      "7          Pranav               Soft Computing     74   \n",
      "8          Pranav               Soft Computing     74   \n",
      "9          Pranav               Soft Computing     74   \n",
      "10   Rohan Sanjay                          NaN     64   \n",
      "11   Rohan Sanjay                          NaN     64   \n",
      "12   Rohan Sanjay                          NaN     64   \n",
      "13   Rohan Sanjay                          NaN     64   \n",
      "14   Rohan Sanjay                          NaN     64   \n",
      "15  Tamil Pandian                          NaN     65   \n",
      "16  Tamil Pandian                          NaN     65   \n",
      "17  Tamil Pandian                          NaN     65   \n",
      "18  Tamil Pandian                          NaN     65   \n",
      "19  Tamil Pandian                          NaN     65   \n",
      "20          Suren                          NaN     63   \n",
      "21          Suren                          NaN     63   \n",
      "22          Suren                          NaN     63   \n",
      "23          Suren                          NaN     63   \n",
      "24          Suren                          NaN     63   \n",
      "\n",
      "                    Top Subjects blood group  \n",
      "0                            NaN          o+  \n",
      "1                            NaN          o+  \n",
      "2                            NaN          o+  \n",
      "3                            NaN          A+  \n",
      "4                            NaN          o+  \n",
      "5                            NaN          o+  \n",
      "6                            NaN          o+  \n",
      "7                            NaN          o+  \n",
      "8                            NaN          A+  \n",
      "9                            NaN          o+  \n",
      "10          Analog system design          o+  \n",
      "11          Analog system design          o+  \n",
      "12          Analog system design          o+  \n",
      "13          Analog system design          A+  \n",
      "14          Analog system design          o+  \n",
      "15             Electrical drives          o+  \n",
      "16             Electrical drives          o+  \n",
      "17             Electrical drives          o+  \n",
      "18             Electrical drives          A+  \n",
      "19             Electrical drives          o+  \n",
      "20  Basic mechanical Engineeerng          o+  \n",
      "21  Basic mechanical Engineeerng          o+  \n",
      "22  Basic mechanical Engineeerng          o+  \n",
      "23  Basic mechanical Engineeerng          A+  \n",
      "24  Basic mechanical Engineeerng          o+  \n"
     ]
    }
   ],
   "source": [
    "print(a.merge(data2,how='cross'))"
   ]
  },
  {
   "cell_type": "code",
   "execution_count": 24,
   "id": "2cb70670",
   "metadata": {},
   "outputs": [
    {
     "data": {
      "text/html": [
       "<div>\n",
       "<style scoped>\n",
       "    .dataframe tbody tr th:only-of-type {\n",
       "        vertical-align: middle;\n",
       "    }\n",
       "\n",
       "    .dataframe tbody tr th {\n",
       "        vertical-align: top;\n",
       "    }\n",
       "\n",
       "    .dataframe thead th {\n",
       "        text-align: right;\n",
       "    }\n",
       "</style>\n",
       "<table border=\"1\" class=\"dataframe\">\n",
       "  <thead>\n",
       "    <tr style=\"text-align: right;\">\n",
       "      <th></th>\n",
       "      <th>First Name</th>\n",
       "      <th>Gender</th>\n",
       "      <th>Start Date</th>\n",
       "      <th>Last Login Time</th>\n",
       "      <th>Salary</th>\n",
       "      <th>Bonus %</th>\n",
       "      <th>Senior Management</th>\n",
       "      <th>Team</th>\n",
       "    </tr>\n",
       "  </thead>\n",
       "  <tbody>\n",
       "    <tr>\n",
       "      <th>0</th>\n",
       "      <td>Douglas</td>\n",
       "      <td>Male</td>\n",
       "      <td>8/6/1993</td>\n",
       "      <td>12:42 PM</td>\n",
       "      <td>97308</td>\n",
       "      <td>6.945</td>\n",
       "      <td>True</td>\n",
       "      <td>Marketing</td>\n",
       "    </tr>\n",
       "    <tr>\n",
       "      <th>1</th>\n",
       "      <td>Thomas</td>\n",
       "      <td>Male</td>\n",
       "      <td>3/31/1996</td>\n",
       "      <td>6:53 AM</td>\n",
       "      <td>61933</td>\n",
       "      <td>4.170</td>\n",
       "      <td>True</td>\n",
       "      <td>NaN</td>\n",
       "    </tr>\n",
       "    <tr>\n",
       "      <th>2</th>\n",
       "      <td>Maria</td>\n",
       "      <td>Female</td>\n",
       "      <td>4/23/1993</td>\n",
       "      <td>11:17 AM</td>\n",
       "      <td>130590</td>\n",
       "      <td>11.858</td>\n",
       "      <td>False</td>\n",
       "      <td>Finance</td>\n",
       "    </tr>\n",
       "    <tr>\n",
       "      <th>3</th>\n",
       "      <td>Jerry</td>\n",
       "      <td>Male</td>\n",
       "      <td>3/4/2005</td>\n",
       "      <td>1:00 PM</td>\n",
       "      <td>138705</td>\n",
       "      <td>9.340</td>\n",
       "      <td>True</td>\n",
       "      <td>Finance</td>\n",
       "    </tr>\n",
       "    <tr>\n",
       "      <th>4</th>\n",
       "      <td>Larry</td>\n",
       "      <td>Male</td>\n",
       "      <td>1/24/1998</td>\n",
       "      <td>4:47 PM</td>\n",
       "      <td>101004</td>\n",
       "      <td>1.389</td>\n",
       "      <td>True</td>\n",
       "      <td>Client Services</td>\n",
       "    </tr>\n",
       "  </tbody>\n",
       "</table>\n",
       "</div>"
      ],
      "text/plain": [
       "  First Name  Gender Start Date Last Login Time  Salary  Bonus %  \\\n",
       "0    Douglas    Male   8/6/1993        12:42 PM   97308    6.945   \n",
       "1     Thomas    Male  3/31/1996         6:53 AM   61933    4.170   \n",
       "2      Maria  Female  4/23/1993        11:17 AM  130590   11.858   \n",
       "3      Jerry    Male   3/4/2005         1:00 PM  138705    9.340   \n",
       "4      Larry    Male  1/24/1998         4:47 PM  101004    1.389   \n",
       "\n",
       "  Senior Management             Team  \n",
       "0              True        Marketing  \n",
       "1              True              NaN  \n",
       "2             False          Finance  \n",
       "3              True          Finance  \n",
       "4              True  Client Services  "
      ]
     },
     "execution_count": 24,
     "metadata": {},
     "output_type": "execute_result"
    }
   ],
   "source": [
    "z=pd.read_csv(r'C:\\Users\\TCS\\Downloads\\emp.csv')\n",
    "z.head()"
   ]
  },
  {
   "cell_type": "code",
   "execution_count": 26,
   "id": "95640668",
   "metadata": {},
   "outputs": [
    {
     "name": "stdout",
     "output_type": "stream",
     "text": [
      "    First Name  Gender  Start Date Last Login Time  Salary  Bonus %  \\\n",
      "0      Douglas    Male    8/6/1993        12:42 PM   97308    6.945   \n",
      "1       Thomas    Male   3/31/1996         6:53 AM   61933    4.170   \n",
      "2        Maria  Female   4/23/1993        11:17 AM  130590   11.858   \n",
      "3        Jerry    Male    3/4/2005         1:00 PM  138705    9.340   \n",
      "4        Larry    Male   1/24/1998         4:47 PM  101004    1.389   \n",
      "..         ...     ...         ...             ...     ...      ...   \n",
      "995      Henry    Male  11/23/2014         6:09 AM  132483   16.655   \n",
      "996    Phillip    Male   1/31/1984         6:30 AM   42392   19.675   \n",
      "997    Russell    Male   5/20/2013        12:39 PM   96914    1.421   \n",
      "998      Larry    Male   4/20/2013         4:45 PM   60500   11.985   \n",
      "999     Albert    Male   5/15/2012         6:24 PM  129949   10.169   \n",
      "\n",
      "     Senior Management                  Team  \n",
      "0                 True             Marketing  \n",
      "1                 True             Marketing  \n",
      "2                False               Finance  \n",
      "3                 True               Finance  \n",
      "4                 True       Client Services  \n",
      "..                 ...                   ...  \n",
      "995              False          Distribution  \n",
      "996              False               Finance  \n",
      "997              False               Product  \n",
      "998              False  Business Development  \n",
      "999               True                 Sales  \n",
      "\n",
      "[1000 rows x 8 columns]\n"
     ]
    }
   ],
   "source": [
    "a=z.fillna(method='pad')\n",
    "print(a)"
   ]
  },
  {
   "cell_type": "code",
   "execution_count": 29,
   "id": "1cc844fe",
   "metadata": {},
   "outputs": [
    {
     "name": "stdout",
     "output_type": "stream",
     "text": [
      "    First Name  Gender  Start Date Last Login Time  Salary  Bonus %  \\\n",
      "2        Maria  Female   4/23/1993        11:17 AM  130590   11.858   \n",
      "5       Dennis    Male   4/18/1987         1:35 AM  115163   10.125   \n",
      "6         Ruby  Female   8/17/1987         4:20 PM   65476   10.012   \n",
      "7          NaN  Female   7/20/2015        10:43 AM   45906   11.598   \n",
      "8       Angela  Female  11/22/2005         6:29 AM   95570   18.523   \n",
      "..         ...     ...         ...             ...     ...      ...   \n",
      "993       Tina  Female   5/15/1997         3:53 PM   56450   19.040   \n",
      "995      Henry     NaN  11/23/2014         6:09 AM  132483   16.655   \n",
      "996    Phillip    Male   1/31/1984         6:30 AM   42392   19.675   \n",
      "998      Larry    Male   4/20/2013         4:45 PM   60500   11.985   \n",
      "999     Albert    Male   5/15/2012         6:24 PM  129949   10.169   \n",
      "\n",
      "    Senior Management                  Team  \n",
      "2               False               Finance  \n",
      "5               False                 Legal  \n",
      "6                True               Product  \n",
      "7                 NaN               Finance  \n",
      "8                True           Engineering  \n",
      "..                ...                   ...  \n",
      "993              True           Engineering  \n",
      "995             False          Distribution  \n",
      "996             False               Finance  \n",
      "998             False  Business Development  \n",
      "999              True                 Sales  \n",
      "\n",
      "[495 rows x 8 columns]\n"
     ]
    }
   ],
   "source": [
    "z=z[z['Bonus %']>10]\n",
    "print(z)"
   ]
  },
  {
   "cell_type": "code",
   "execution_count": 30,
   "id": "ef1a9032",
   "metadata": {},
   "outputs": [
    {
     "name": "stdout",
     "output_type": "stream",
     "text": [
      "    First Name  Gender  Start Date  Salary  Bonus % Senior Management  \\\n",
      "2        Maria  Female   4/23/1993  130590   11.858             False   \n",
      "5       Dennis    Male   4/18/1987  115163   10.125             False   \n",
      "6         Ruby  Female   8/17/1987   65476   10.012              True   \n",
      "7          NaN  Female   7/20/2015   45906   11.598               NaN   \n",
      "8       Angela  Female  11/22/2005   95570   18.523              True   \n",
      "..         ...     ...         ...     ...      ...               ...   \n",
      "993       Tina  Female   5/15/1997   56450   19.040              True   \n",
      "995      Henry     NaN  11/23/2014  132483   16.655             False   \n",
      "996    Phillip    Male   1/31/1984   42392   19.675             False   \n",
      "998      Larry    Male   4/20/2013   60500   11.985             False   \n",
      "999     Albert    Male   5/15/2012  129949   10.169              True   \n",
      "\n",
      "                     Team  \n",
      "2                 Finance  \n",
      "5                   Legal  \n",
      "6                 Product  \n",
      "7                 Finance  \n",
      "8             Engineering  \n",
      "..                    ...  \n",
      "993           Engineering  \n",
      "995          Distribution  \n",
      "996               Finance  \n",
      "998  Business Development  \n",
      "999                 Sales  \n",
      "\n",
      "[495 rows x 7 columns]\n"
     ]
    }
   ],
   "source": [
    "y=z.drop(['Last Login Time'],axis=1)\n",
    "print(y)"
   ]
  },
  {
   "cell_type": "code",
   "execution_count": 32,
   "id": "8a58a66a",
   "metadata": {},
   "outputs": [
    {
     "name": "stdout",
     "output_type": "stream",
     "text": [
      "    First Name  Gender  Start Date Last Login Time  Salary  Bonus %  \\\n",
      "8       Angela  Female  11/22/2005         6:29 AM   95570   18.523   \n",
      "50       Nancy  Female   9/23/2000         8:05 AM   94976   13.830   \n",
      "59       Irene  Female    5/7/1997         9:32 AM   66851   11.279   \n",
      "122  Christina  Female   4/13/2012         2:04 PM  110169   13.892   \n",
      "171    Patrick    Male   8/17/2007         3:16 AM  143499   17.495   \n",
      "209      Emily  Female   9/20/2007        11:25 AM   89434   11.295   \n",
      "213     Evelyn  Female   5/24/1980        11:10 PM   81673   15.364   \n",
      "228      Bobby    Male   9/23/1994         1:29 AM   51685   17.445   \n",
      "242     Robert    Male  10/27/1990         7:15 PM   38041   18.428   \n",
      "245     Victor    Male   4/11/1991         7:44 AM   70817   17.138   \n",
      "263      Sarah     NaN  11/21/1985         1:08 PM   58295   14.603   \n",
      "301      James    Male   7/11/2015         8:52 PM   72257   13.023   \n",
      "329        NaN    Male   1/27/2010         2:57 AM   87760   14.987   \n",
      "372     Albert    Male    2/1/1997         4:20 PM   67827   19.717   \n",
      "381      Scott    Male    8/3/1996         1:50 AM   64172   10.894   \n",
      "402    Richard     NaN  11/28/1992         5:05 PM  124655   14.272   \n",
      "447    Gregory    Male   5/15/2009         3:52 PM  142208   11.204   \n",
      "474   Jonathan    Male   8/15/2002        12:01 AM  104749   11.364   \n",
      "505        NaN    Male   4/20/1980         1:17 PM   71520   13.248   \n",
      "507   Clarence    Male   11/3/2015        12:11 AM  103684   18.654   \n",
      "521        NaN     NaN   9/25/1981         9:59 AM   83895   17.971   \n",
      "551     Philip    Male   7/18/1985         6:36 AM  122319   19.122   \n",
      "553     Amanda  Female    6/7/2002         7:46 AM  109290   13.853   \n",
      "558      Linda  Female   8/18/1985         4:34 AM   51431   13.295   \n",
      "563      Randy    Male    5/2/2002         7:39 PM   86723   14.842   \n",
      "602      Bobby     NaN   7/21/2003         3:50 PM   84232   15.704   \n",
      "604      Bruce    Male   3/15/2013        11:13 PM  141335   15.427   \n",
      "608        NaN  Female  10/24/1993         5:17 PM  116236   17.274   \n",
      "619    Beverly  Female  10/22/1990         2:45 PM   59070   19.064   \n",
      "680     Albert    Male   6/17/1992         3:25 AM   86818   14.301   \n",
      "705      Harry    Male   9/23/2015         1:36 AM  129148   15.193   \n",
      "711      Karen  Female    1/9/2014        10:09 PM   46478   16.552   \n",
      "712     Martin     NaN    2/6/2001         4:17 AM  123963   15.745   \n",
      "715      Peter    Male   3/22/1982         7:28 AM   77933   13.132   \n",
      "719       John    Male   1/29/1999         3:07 AM   67165   13.001   \n",
      "724     Andrea  Female  12/10/2001         6:40 AM   37888   13.470   \n",
      "761   Jennifer  Female   3/31/2015         7:43 PM  132084   10.006   \n",
      "797       Rose  Female  12/31/1982         6:50 PM  145001   19.850   \n",
      "805     Thomas    Male    5/3/1990         9:29 AM  111371   15.081   \n",
      "935      Alice  Female   3/23/1996         3:09 AM  131952   12.090   \n",
      "941    William    Male   6/26/1997         8:33 AM  104840   15.653   \n",
      "948     Ashley  Female   3/31/2006         1:24 PM  142410   11.048   \n",
      "967     Thomas    Male   3/12/2016         3:10 PM  105681   19.572   \n",
      "969      Linda  Female    2/4/2010         8:49 PM   44486   17.308   \n",
      "983       John    Male  12/23/1982        10:35 PM  146907   11.738   \n",
      "984      Maria  Female  10/15/2011         4:53 PM   43455   13.040   \n",
      "993       Tina  Female   5/15/1997         3:53 PM   56450   19.040   \n",
      "\n",
      "    Senior Management         Team  \n",
      "8                True  Engineering  \n",
      "50               True  Engineering  \n",
      "59              False  Engineering  \n",
      "122              True  Engineering  \n",
      "171              True  Engineering  \n",
      "209             False  Engineering  \n",
      "213              True  Engineering  \n",
      "228              True  Engineering  \n",
      "242              True  Engineering  \n",
      "245             False  Engineering  \n",
      "263              True  Engineering  \n",
      "301             False  Engineering  \n",
      "329               NaN  Engineering  \n",
      "372              True  Engineering  \n",
      "381              True  Engineering  \n",
      "402              True  Engineering  \n",
      "447              True  Engineering  \n",
      "474             False  Engineering  \n",
      "505               NaN  Engineering  \n",
      "507              True  Engineering  \n",
      "521               NaN  Engineering  \n",
      "551             False  Engineering  \n",
      "553             False  Engineering  \n",
      "558             False  Engineering  \n",
      "563             False  Engineering  \n",
      "602              True  Engineering  \n",
      "604              True  Engineering  \n",
      "608               NaN  Engineering  \n",
      "619              True  Engineering  \n",
      "680              True  Engineering  \n",
      "705              True  Engineering  \n",
      "711             False  Engineering  \n",
      "712              True  Engineering  \n",
      "715              True  Engineering  \n",
      "719             False  Engineering  \n",
      "724             False  Engineering  \n",
      "761              True  Engineering  \n",
      "797             False  Engineering  \n",
      "805              True  Engineering  \n",
      "935             False  Engineering  \n",
      "941              True  Engineering  \n",
      "948              True  Engineering  \n",
      "967             False  Engineering  \n",
      "969              True  Engineering  \n",
      "983             False  Engineering  \n",
      "984             False  Engineering  \n",
      "993              True  Engineering  \n"
     ]
    }
   ],
   "source": [
    "grouped=z.groupby('Team')\n",
    "print(grouped.get_group('Engineering'))"
   ]
  },
  {
   "cell_type": "code",
   "execution_count": 33,
   "id": "40a34826",
   "metadata": {},
   "outputs": [
    {
     "name": "stdout",
     "output_type": "stream",
     "text": [
      "    First Name  Gender  Start Date Last Login Time  Salary  Bonus %  \\\n",
      "2        Maria  Female   4/23/1993        11:17 AM  130590   11.858   \n",
      "6         Ruby  Female   8/17/1987         4:20 PM   65476   10.012   \n",
      "7          NaN  Female   7/20/2015        10:43 AM   45906   11.598   \n",
      "8       Angela  Female  11/22/2005         6:29 AM   95570   18.523   \n",
      "10      Louise  Female   8/12/1980         9:01 AM   63241   15.132   \n",
      "..         ...     ...         ...             ...     ...      ...   \n",
      "987     Gloria  Female   12/8/2014         5:08 AM  136709   10.331   \n",
      "988      Alice  Female   10/5/2004         9:34 AM   47638   11.209   \n",
      "990      Robin  Female   7/24/1987         1:35 PM  100765   10.982   \n",
      "991       Rose  Female   8/25/2002         5:12 AM  134505   11.051   \n",
      "993       Tina  Female   5/15/1997         3:53 PM   56450   19.040   \n",
      "\n",
      "    Senior Management             Team  \n",
      "2               False          Finance  \n",
      "6                True          Product  \n",
      "7                 NaN          Finance  \n",
      "8                True      Engineering  \n",
      "10               True              NaN  \n",
      "..                ...              ...  \n",
      "987              True          Finance  \n",
      "988             False  Human Resources  \n",
      "990              True  Client Services  \n",
      "991              True        Marketing  \n",
      "993              True      Engineering  \n",
      "\n",
      "[202 rows x 8 columns]\n"
     ]
    }
   ],
   "source": [
    "grouped=z.groupby('Gender')\n",
    "print(grouped.get_group('Female'))"
   ]
  },
  {
   "cell_type": "code",
   "execution_count": 36,
   "id": "ca6e2c2d",
   "metadata": {},
   "outputs": [
    {
     "name": "stdout",
     "output_type": "stream",
     "text": [
      "2      False\n",
      "5      False\n",
      "6      False\n",
      "7       True\n",
      "8      False\n",
      "       ...  \n",
      "993     True\n",
      "995     True\n",
      "996     True\n",
      "998     True\n",
      "999     True\n",
      "Length: 495, dtype: bool\n"
     ]
    }
   ],
   "source": [
    "c=z.duplicated('Team')\n",
    "print(c)"
   ]
  },
  {
   "cell_type": "code",
   "execution_count": 37,
   "id": "3bd2b229",
   "metadata": {},
   "outputs": [
    {
     "name": "stdout",
     "output_type": "stream",
     "text": [
      "   First Name  Gender  Start Date Last Login Time  Salary  Bonus %  \\\n",
      "2       Maria  Female   4/23/1993        11:17 AM  130590   11.858   \n",
      "5      Dennis    Male   4/18/1987         1:35 AM  115163   10.125   \n",
      "6        Ruby  Female   8/17/1987         4:20 PM   65476   10.012   \n",
      "8      Angela  Female  11/22/2005         6:29 AM   95570   18.523   \n",
      "10     Louise  Female   8/12/1980         9:01 AM   63241   15.132   \n",
      "12    Brandon    Male   12/1/1980         1:08 AM  112807   17.492   \n",
      "18      Diana  Female  10/23/1981        10:27 AM  132940   19.082   \n",
      "21    Matthew    Male    9/5/1995         2:12 AM  100612   13.645   \n",
      "33       Jean  Female  12/18/1993         9:07 AM  119082   16.180   \n",
      "35    Theresa  Female  10/10/2006         1:12 AM   85182   16.675   \n",
      "65      Steve    Male  11/11/2009        11:44 PM   61310   12.428   \n",
      "\n",
      "   Senior Management                  Team  \n",
      "2              False               Finance  \n",
      "5              False                 Legal  \n",
      "6               True               Product  \n",
      "8               True           Engineering  \n",
      "10              True                   NaN  \n",
      "12              True       Human Resources  \n",
      "18             False       Client Services  \n",
      "21             False             Marketing  \n",
      "33             False  Business Development  \n",
      "35             False                 Sales  \n",
      "65              True          Distribution  \n"
     ]
    }
   ],
   "source": [
    "d=z[~c]\n",
    "print(d)"
   ]
  },
  {
   "cell_type": "code",
   "execution_count": 38,
   "id": "2c913b6e",
   "metadata": {},
   "outputs": [
    {
     "name": "stdout",
     "output_type": "stream",
     "text": [
      "Empty DataFrame\n",
      "Columns: [Name,  Top Subjects, Marks_x, Top Subjects, Marks_y]\n",
      "Index: []\n"
     ]
    }
   ],
   "source": [
    "print(pd.merge(data,data1,on='Name'))"
   ]
  },
  {
   "cell_type": "code",
   "execution_count": null,
   "id": "e04bdc4b",
   "metadata": {},
   "outputs": [],
   "source": []
  }
 ],
 "metadata": {
  "kernelspec": {
   "display_name": "Python 3 (ipykernel)",
   "language": "python",
   "name": "python3"
  },
  "language_info": {
   "codemirror_mode": {
    "name": "ipython",
    "version": 3
   },
   "file_extension": ".py",
   "mimetype": "text/x-python",
   "name": "python",
   "nbconvert_exporter": "python",
   "pygments_lexer": "ipython3",
   "version": "3.11.3"
  }
 },
 "nbformat": 4,
 "nbformat_minor": 5
}
