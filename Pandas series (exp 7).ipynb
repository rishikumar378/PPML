{
 "cells": [
  {
   "cell_type": "code",
   "execution_count": 2,
   "id": "2548ade5",
   "metadata": {},
   "outputs": [
    {
     "name": "stdout",
     "output_type": "stream",
     "text": [
      "Series from array:\n",
      "0    P\n",
      "1    a\n",
      "2    n\n",
      "3    d\n",
      "4    a\n",
      "5    s\n",
      "dtype: object\n"
     ]
    }
   ],
   "source": [
    "import pandas as pd\n",
    "import numpy as np\n",
    "arr=np.array(['P','a','n','d','a','s'])\n",
    "a=pd.Series(arr)\n",
    "print(\"Series from array:\")\n",
    "print(a)"
   ]
  },
  {
   "cell_type": "code",
   "execution_count": 5,
   "id": "b9ababb8",
   "metadata": {},
   "outputs": [
    {
     "name": "stdout",
     "output_type": "stream",
     "text": [
      "\n",
      "\n",
      "Series from dictionary:\n",
      "\n",
      "x    0.0\n",
      "y    1.0\n",
      "z    2.0\n",
      "dtype: float64\n"
     ]
    }
   ],
   "source": [
    "arr={'x':0.,'y':1.,'z':2.}\n",
    "b=pd.Series(arr)\n",
    "print(\"\\n\\nSeries from dictionary:\\n\")\n",
    "print(b)\n"
   ]
  },
  {
   "cell_type": "code",
   "execution_count": 6,
   "id": "d504b6d2",
   "metadata": {},
   "outputs": [
    {
     "name": "stdout",
     "output_type": "stream",
     "text": [
      "\n",
      "Series using scalar\n",
      "\n",
      "0    4\n",
      "1    4\n",
      "2    4\n",
      "3    4\n",
      "dtype: int64\n"
     ]
    }
   ],
   "source": [
    "x=pd.Series(4,index=[0,1,2,3])\n",
    "print(\"\\nSeries using scalar\\n\")\n",
    "print(x)"
   ]
  },
  {
   "cell_type": "code",
   "execution_count": 7,
   "id": "66c9f579",
   "metadata": {},
   "outputs": [
    {
     "name": "stdout",
     "output_type": "stream",
     "text": [
      "\n",
      "Series through index:\n",
      "a    1\n",
      "b    2\n",
      "c    3\n",
      "dtype: int64\n"
     ]
    }
   ],
   "source": [
    "x=pd.Series([1,2,3],index=['a','b','c'])\n",
    "print(\"\\nSeries through index:\")\n",
    "print(x)"
   ]
  },
  {
   "cell_type": "code",
   "execution_count": 9,
   "id": "4b8c86df",
   "metadata": {},
   "outputs": [
    {
     "name": "stdout",
     "output_type": "stream",
     "text": [
      "\n",
      " a series:\n",
      " 0    1\n",
      "1    2\n",
      "2    3\n",
      "3    4\n",
      "dtype: int64\n",
      "\n",
      "index:\n",
      " RangeIndex(start=0, stop=4, step=1)\n",
      "\n",
      "values:\n",
      " [1 2 3 4]\n",
      "\n",
      "shape: (4,)\n",
      "\n",
      "Dimension: 1\n",
      "\n",
      "size: 4\n"
     ]
    }
   ],
   "source": [
    "a=pd.Series(data=[1,2,3,4])\n",
    "print(\"\\n a series:\\n\",a)\n",
    "print(\"\\nindex:\\n\",a.index)\n",
    "print(\"\\nvalues:\\n\",a.values)\n",
    "print(\"\\nshape:\",a.shape)\n",
    "print(\"\\nDimension:\",a.ndim)\n",
    "print(\"\\nsize:\",a.size)"
   ]
  },
  {
   "cell_type": "code",
   "execution_count": null,
   "id": "51215ab1",
   "metadata": {},
   "outputs": [],
   "source": []
  }
 ],
 "metadata": {
  "kernelspec": {
   "display_name": "Python 3 (ipykernel)",
   "language": "python",
   "name": "python3"
  },
  "language_info": {
   "codemirror_mode": {
    "name": "ipython",
    "version": 3
   },
   "file_extension": ".py",
   "mimetype": "text/x-python",
   "name": "python",
   "nbconvert_exporter": "python",
   "pygments_lexer": "ipython3",
   "version": "3.9.12"
  }
 },
 "nbformat": 4,
 "nbformat_minor": 5
}
