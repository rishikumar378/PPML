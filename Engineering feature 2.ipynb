{
 "cells": [
  {
   "cell_type": "code",
   "execution_count": 1,
   "id": "3867f7b6-7b32-4d5f-8c1e-f90d714b57d7",
   "metadata": {},
   "outputs": [],
   "source": [
    "import pandas as pd\n",
    "import numpy as np"
   ]
  },
  {
   "cell_type": "code",
   "execution_count": 2,
   "id": "8ab7821d-5c22-412a-a1df-d100b45827f5",
   "metadata": {},
   "outputs": [
    {
     "name": "stdout",
     "output_type": "stream",
     "text": [
      "Before: \n",
      "\n",
      "    Height\n",
      "0    150.4\n",
      "1    157.6\n",
      "2    170.0\n",
      "3    176.0\n",
      "4    164.2\n",
      "5    155.0\n",
      "6    159.2\n",
      "7    175.0\n",
      "8    162.4\n",
      "9    176.0\n",
      "10   153.0\n",
      "11   170.9\n"
     ]
    }
   ],
   "source": [
    "df=pd.DataFrame({'Height':[150.4,157.6,170,176,164.2,155,159.2,175,162.4,176,153,170.9]})\n",
    "print(\"Before: \\n\")\n",
    "print(df)"
   ]
  },
  {
   "cell_type": "code",
   "execution_count": 4,
   "id": "4e4495b4-9a9f-4248-9f3b-1da7acbe4d5b",
   "metadata": {},
   "outputs": [],
   "source": [
    "df['Label'] = pd.cut(x=df['Height'],\n",
    "bins=[150, 157, 169, 180],\n",
    "labels=['Short', 'Average', 'Tall'])"
   ]
  },
  {
   "cell_type": "code",
   "execution_count": 6,
   "id": "9718a4c0-e948-467e-baf6-5fdfd60e6c2b",
   "metadata": {},
   "outputs": [
    {
     "name": "stdout",
     "output_type": "stream",
     "text": [
      "After: \n",
      "    Height    Label\n",
      "0    150.4    Short\n",
      "1    157.6  Average\n",
      "2    170.0     Tall\n",
      "3    176.0     Tall\n",
      "4    164.2  Average\n",
      "5    155.0    Short\n",
      "6    159.2  Average\n",
      "7    175.0     Tall\n",
      "8    162.4  Average\n",
      "9    176.0     Tall\n",
      "10   153.0    Short\n",
      "11   170.9     Tall\n"
     ]
    }
   ],
   "source": [
    "print(\"After: \")\n",
    "print(df)"
   ]
  },
  {
   "cell_type": "code",
   "execution_count": 7,
   "id": "f31f2e46-f35e-44ab-a1ef-2def943a8920",
   "metadata": {},
   "outputs": [
    {
     "name": "stdout",
     "output_type": "stream",
     "text": [
      "Categories: \n",
      "Label\n",
      "Tall       5\n",
      "Average    4\n",
      "Short      3\n",
      "Name: count, dtype: int64\n"
     ]
    }
   ],
   "source": [
    "print(\"Categories: \")\n",
    "print(df['Label'].value_counts())"
   ]
  },
  {
   "cell_type": "code",
   "execution_count": null,
   "id": "9a1acd47-790a-411c-bf0a-d3f31a1de71d",
   "metadata": {},
   "outputs": [],
   "source": []
  }
 ],
 "metadata": {
  "kernelspec": {
   "display_name": "Python 3 (ipykernel)",
   "language": "python",
   "name": "python3"
  },
  "language_info": {
   "codemirror_mode": {
    "name": "ipython",
    "version": 3
   },
   "file_extension": ".py",
   "mimetype": "text/x-python",
   "name": "python",
   "nbconvert_exporter": "python",
   "pygments_lexer": "ipython3",
   "version": "3.12.4"
  }
 },
 "nbformat": 4,
 "nbformat_minor": 5
}
