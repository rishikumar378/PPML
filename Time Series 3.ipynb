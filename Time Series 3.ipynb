{
 "cells": [
  {
   "cell_type": "code",
   "execution_count": 1,
   "id": "40a31fb2-1f29-427a-a07d-491a277da816",
   "metadata": {},
   "outputs": [],
   "source": [
    "import pandas as pd\n",
    "import numpy as np\n",
    "from datetime import datetime\n"
   ]
  },
  {
   "cell_type": "code",
   "execution_count": 2,
   "id": "dbd4d376-c4ea-4d14-8b3a-616337491161",
   "metadata": {},
   "outputs": [],
   "source": [
    "dates = [datetime(2011, 1, 2),\n",
    "datetime(2011, 1, 5),\n",
    "datetime(2011, 1, 7),\n",
    "datetime(2011, 1, 8),\n",
    "datetime(2011, 1, 10),\n",
    "datetime(2011, 1, 12)]\n"
   ]
  },
  {
   "cell_type": "code",
   "execution_count": 3,
   "id": "2826cc3e-e656-469e-b3aa-97bb8333908d",
   "metadata": {},
   "outputs": [
    {
     "name": "stdout",
     "output_type": "stream",
     "text": [
      "Date Index: \n",
      " 2011-01-02   -0.697135\n",
      "2011-01-05    0.707656\n",
      "2011-01-07   -1.064308\n",
      "2011-01-08    1.053136\n",
      "2011-01-10   -0.723495\n",
      "2011-01-12    0.009209\n",
      "dtype: float64\n",
      "\n",
      "Date Index alone from the series: \n",
      " DatetimeIndex(['2011-01-02', '2011-01-05', '2011-01-07', '2011-01-08',\n",
      "               '2011-01-10', '2011-01-12'],\n",
      "              dtype='datetime64[ns]', freq=None)\n"
     ]
    }
   ],
   "source": [
    "ts = pd.Series(np.random.randn(6), index=dates)\n",
    "print(\"Date Index: \\n\",ts)\n",
    "print(\"\\nDate Index alone from the series: \\n\",ts.index)"
   ]
  },
  {
   "cell_type": "code",
   "execution_count": 4,
   "id": "fba961ea-f59e-41fb-84c1-fd60c830e79d",
   "metadata": {},
   "outputs": [
    {
     "name": "stdout",
     "output_type": "stream",
     "text": [
      "\n",
      "Second index:\n",
      " 2011-01-07 00:00:00\n"
     ]
    }
   ],
   "source": [
    "stamp=ts.index[2]\n",
    "print(\"\\nSecond index:\\n\",stamp)\n"
   ]
  },
  {
   "cell_type": "code",
   "execution_count": 5,
   "id": "b137677e-b614-4c8c-937c-6e9c5b469924",
   "metadata": {},
   "outputs": [],
   "source": [
    "longer_ts = pd.Series(np.random.randn(1000),\n",
    "index=pd.date_range(\"2000-01-01\", periods=1000))"
   ]
  },
  {
   "cell_type": "code",
   "execution_count": null,
   "id": "df8aa388-2420-4867-bf56-bef51bb7458b",
   "metadata": {},
   "outputs": [],
   "source": [
    "print(\"\\nDaterange up to 1000 days:\\n\", longer_ts)\n",
    "print(\"\\nDate range - 2001 year:\\n\", longer_ts[\"2001\"])\n",
    "print(\"\\nDate range - 05 month 2001 year :\\n\", longer_ts[\"2001-05\"])\n",
    "print(\"\\nDate range - first few dates in 2000 year:\\n\", longer_ts[\"2000\"].head())\n",
    "print(\"\\nDate range - first 15 dates in 02 month -2001 year:\\n\", longer_ts[\"2000-02\"].head(15))\n",
    "print(\"\\nDate range - rom 26-9-2001:\\n\", longer_ts[datetime(2000,9,26):])\n",
    "print(\"\\nDate range - from 26-9-2001 to 25-9- 2002:\\n\", longer_ts[datetime(2001,9,26):datetime(2002,9,25)])"
   ]
  }
 ],
 "metadata": {
  "kernelspec": {
   "display_name": "Python 3 (ipykernel)",
   "language": "python",
   "name": "python3"
  },
  "language_info": {
   "codemirror_mode": {
    "name": "ipython",
    "version": 3
   },
   "file_extension": ".py",
   "mimetype": "text/x-python",
   "name": "python",
   "nbconvert_exporter": "python",
   "pygments_lexer": "ipython3",
   "version": "3.12.4"
  }
 },
 "nbformat": 4,
 "nbformat_minor": 5
}
