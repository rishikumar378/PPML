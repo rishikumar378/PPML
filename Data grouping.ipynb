{
 "cells": [
  {
   "cell_type": "code",
   "execution_count": 1,
   "id": "fb20cd24-6e5a-48e0-ac2e-996a0f2a1649",
   "metadata": {},
   "outputs": [
    {
     "name": "stdout",
     "output_type": "stream",
     "text": [
      "   Animal  Max Speed\n",
      "0  Falcon      380.0\n",
      "1  Falcon      370.0\n",
      "2  Parrot       24.0\n",
      "3  Parrot       26.0\n"
     ]
    }
   ],
   "source": [
    "import pandas as pd\n",
    "df = pd.DataFrame({'Animal': ['Falcon', 'Falcon',\n",
    "'Parrot', 'Parrot'],\n",
    "'Max Speed': [380., 370., 24., 26.]})\n",
    "print(df)"
   ]
  },
  {
   "cell_type": "code",
   "execution_count": 2,
   "id": "b273e289-61e5-4f16-9d8f-492aefbb6b3d",
   "metadata": {},
   "outputs": [
    {
     "name": "stdout",
     "output_type": "stream",
     "text": [
      "\n",
      "Original DataFrame\n",
      "    Animal  Max Speed\n",
      "0  Falcon      380.0\n",
      "1  Falcon      370.0\n",
      "2  Parrot       24.0\n",
      "3  Parrot       26.0\n",
      "\n",
      "Group by through Column using mean\n",
      "         Max Speed\n",
      "Animal           \n",
      "Falcon      375.0\n",
      "Parrot       25.0\n"
     ]
    }
   ],
   "source": [
    "a=df.groupby(['Animal']).mean()\n",
    "print(\"\\nOriginal DataFrame\\n\",df)\n",
    "print(\"\\nGroup by through Column using mean\\n\",a)\n"
   ]
  },
  {
   "cell_type": "code",
   "execution_count": 3,
   "id": "165c13fb-f51f-439c-a17a-827f1a190b3d",
   "metadata": {},
   "outputs": [
    {
     "name": "stdout",
     "output_type": "stream",
     "text": [
      "\n",
      "Original DataFrame\n",
      "    Animal  Max Speed\n",
      "0  Falcon      380.0\n",
      "1  Falcon      370.0\n",
      "2  Parrot       24.0\n",
      "3  Parrot       26.0\n",
      "\n",
      "Group by through Column using sum\n",
      "         Max Speed\n",
      "Animal           \n",
      "Falcon      750.0\n",
      "Parrot       50.0\n"
     ]
    }
   ],
   "source": [
    "b=df.groupby(['Animal']).sum()\n",
    "print(\"\\nOriginal DataFrame\\n\",df)\n",
    "print(\"\\nGroup by through Column using sum\\n\",b)\n"
   ]
  },
  {
   "cell_type": "code",
   "execution_count": 4,
   "id": "02e695b0-2586-478a-90e1-2d40104585bf",
   "metadata": {},
   "outputs": [
    {
     "name": "stdout",
     "output_type": "stream",
     "text": [
      "\n",
      "Original DataFrame\n",
      "    Animal  Max Speed\n",
      "0  Falcon      380.0\n",
      "1  Falcon      370.0\n",
      "2  Parrot       24.0\n",
      "3  Parrot       26.0\n",
      "\n",
      "Group by through Column using count\n",
      "         Max Speed\n",
      "Animal           \n",
      "Falcon          2\n",
      "Parrot          2\n"
     ]
    }
   ],
   "source": [
    "c=df.groupby(['Animal']).count()\n",
    "print(\"\\nOriginal DataFrame\\n\",df)\n",
    "print(\"\\nGroup by through Column using count\\n\",c)\n"
   ]
  },
  {
   "cell_type": "code",
   "execution_count": 5,
   "id": "14943637-7c41-4117-8e61-a49291c38ef6",
   "metadata": {},
   "outputs": [
    {
     "name": "stdout",
     "output_type": "stream",
     "text": [
      "\n",
      "Original DataFrame\n",
      "    Animal  Max Speed\n",
      "0  Falcon      380.0\n",
      "1  Falcon      370.0\n",
      "2  Parrot       24.0\n",
      "3  Parrot       26.0\n",
      "\n",
      "Group by through Column using first\n",
      "         Max Speed\n",
      "Animal           \n",
      "Falcon      380.0\n",
      "Parrot       24.0\n"
     ]
    }
   ],
   "source": [
    "d=df.groupby(['Animal']).first()\n",
    "print(\"\\nOriginal DataFrame\\n\",df)\n",
    "print(\"\\nGroup by through Column using first\\n\",d)\n"
   ]
  },
  {
   "cell_type": "code",
   "execution_count": 6,
   "id": "19b878b7-de7e-4c27-b207-92c04f84370f",
   "metadata": {},
   "outputs": [
    {
     "name": "stdout",
     "output_type": "stream",
     "text": [
      "\n",
      "Original DataFrame\n",
      "    Animal  Max Speed\n",
      "0  Falcon      380.0\n",
      "1  Falcon      370.0\n",
      "2  Parrot       24.0\n",
      "3  Parrot       26.0\n",
      "\n",
      "Group by through Column using last\n",
      "         Max Speed\n",
      "Animal           \n",
      "Falcon      370.0\n",
      "Parrot       26.0\n"
     ]
    }
   ],
   "source": [
    "e=df.groupby(['Animal']).last()\n",
    "print(\"\\nOriginal DataFrame\\n\",df)\n",
    "print(\"\\nGroup by through Column using last\\n\",e)\n"
   ]
  },
  {
   "cell_type": "code",
   "execution_count": 7,
   "id": "d83fe84f-0923-45ee-af8b-7857b5b57a09",
   "metadata": {},
   "outputs": [
    {
     "name": "stdout",
     "output_type": "stream",
     "text": [
      "\n",
      "Original DataFrame\n",
      "    Animal  Max Speed\n",
      "0  Falcon      380.0\n",
      "1  Falcon      370.0\n",
      "2  Parrot       24.0\n",
      "3  Parrot       26.0\n",
      "\n",
      "Group by through Column using size\n",
      " Animal\n",
      "Falcon    2\n",
      "Parrot    2\n",
      "dtype: int64\n"
     ]
    }
   ],
   "source": [
    "f=df.groupby(['Animal']).size()\n",
    "print(\"\\nOriginal DataFrame\\n\",df)\n",
    "print(\"\\nGroup by through Column using size\\n\",f)"
   ]
  },
  {
   "cell_type": "code",
   "execution_count": null,
   "id": "f48ff55d-10a5-4555-8559-ab8dfe2402e9",
   "metadata": {},
   "outputs": [],
   "source": []
  }
 ],
 "metadata": {
  "kernelspec": {
   "display_name": "Python 3 (ipykernel)",
   "language": "python",
   "name": "python3"
  },
  "language_info": {
   "codemirror_mode": {
    "name": "ipython",
    "version": 3
   },
   "file_extension": ".py",
   "mimetype": "text/x-python",
   "name": "python",
   "nbconvert_exporter": "python",
   "pygments_lexer": "ipython3",
   "version": "3.12.4"
  }
 },
 "nbformat": 4,
 "nbformat_minor": 5
}
