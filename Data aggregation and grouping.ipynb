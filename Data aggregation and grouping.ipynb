{
 "cells": [
  {
   "cell_type": "code",
   "execution_count": 1,
   "id": "e633c4b6-4d84-47f2-93a6-3a181a6947e5",
   "metadata": {},
   "outputs": [
    {
     "name": "stdout",
     "output_type": "stream",
     "text": [
      "\n",
      "Original DataFrame\n",
      "      A      B  C  D  E\n",
      "0  foo    one  1  2  2\n",
      "1  foo    two  4  4  0\n",
      "2  bar  three  4  1  3\n",
      "3  foo    two  3  4  1\n",
      "4  bar    two  4  1  1\n",
      "5  foo    one  1  2  3\n"
     ]
    }
   ],
   "source": [
    "import pandas as pd\n",
    "import numpy as np\n",
    "df = pd.DataFrame({'A': ['foo', 'foo', 'bar', 'foo', 'bar', 'foo'],\n",
    "'B': ['one', 'two', 'three', 'two', 'two', 'one'],\n",
    "'C': np.random.randint(5, size=6),\n",
    "'D': np.random.randint(5, size=6),\n",
    "'E': np.random.randint(5, size=6)})\n",
    "print(\"\\nOriginal DataFrame\\n\",df)"
   ]
  },
  {
   "cell_type": "code",
   "execution_count": 2,
   "id": "a4d4a363-7588-4bcd-aef0-5cd9be349684",
   "metadata": {},
   "outputs": [
    {
     "name": "stdout",
     "output_type": "stream",
     "text": [
      "\n",
      "Original DataFrame\n",
      "      A      B  C  D  E\n",
      "0  foo    one  1  2  2\n",
      "1  foo    two  4  4  0\n",
      "2  bar  three  4  1  3\n",
      "3  foo    two  3  4  1\n",
      "4  bar    two  4  1  1\n",
      "5  foo    one  1  2  3\n",
      "\n",
      "Group by (multi-column); with one column sum\n",
      "      A      B  C\n",
      "0  bar  three  4\n",
      "1  bar    two  4\n",
      "2  foo    one  2\n",
      "3  foo    two  7\n"
     ]
    }
   ],
   "source": [
    "df1=df.groupby(['A', 'B'], as_index=False)['C'].sum()\n",
    "print(\"\\nOriginal DataFrame\\n\",df)\n",
    "print(\"\\nGroup by (multi-column); with one column sum\\n\",df1)\n"
   ]
  },
  {
   "cell_type": "code",
   "execution_count": 3,
   "id": "642f3587-70b6-44cf-8f9d-437c20b6fafa",
   "metadata": {},
   "outputs": [
    {
     "name": "stdout",
     "output_type": "stream",
     "text": [
      "\n",
      "Original DataFrame\n",
      "      A      B  C  D  E\n",
      "0  foo    one  1  2  2\n",
      "1  foo    two  4  4  0\n",
      "2  bar  three  4  1  3\n",
      "3  foo    two  3  4  1\n",
      "4  bar    two  4  1  1\n",
      "5  foo    one  1  2  3\n",
      "\n",
      "Group by (multi-column): with multi columns sum\n",
      "      A      B  C  D  E\n",
      "0  bar  three  4  1  3\n",
      "1  bar    two  4  1  1\n",
      "2  foo    one  2  4  5\n",
      "3  foo    two  7  8  1\n"
     ]
    }
   ],
   "source": [
    "df2 = df.groupby(['A', 'B'], as_index=False).sum()\n",
    "print(\"\\nOriginal DataFrame\\n\",df)\n",
    "print(\"\\nGroup by (multi-column): with multi columns sum\\n\",df2)\n"
   ]
  },
  {
   "cell_type": "code",
   "execution_count": 6,
   "id": "dd44601e-439b-459d-8b4c-f2e70751059b",
   "metadata": {},
   "outputs": [
    {
     "name": "stdout",
     "output_type": "stream",
     "text": [
      "\n",
      "Original DataFrame\n",
      "      A      B  C  D  E\n",
      "0  foo    one  1  2  2\n",
      "1  foo    two  4  4  0\n",
      "2  bar  three  4  1  3\n",
      "3  foo    two  3  4  1\n",
      "4  bar    two  4  1  1\n",
      "5  foo    one  1  2  3\n",
      "\n",
      "Combined Groupby and Aggregate function\n",
      "      A      B  C\n",
      "0  bar  three  4\n",
      "1  bar    two  4\n",
      "2  foo    one  2\n",
      "3  foo    two  7\n"
     ]
    }
   ],
   "source": [
    "df3=df.groupby(['A', 'B'], as_index=False) ['C'].agg('sum')\n",
    "print(\"\\nOriginal DataFrame\\n\",df)\n",
    "print(\"\\nCombined Groupby and Aggregate function\\n\",df3)"
   ]
  },
  {
   "cell_type": "code",
   "execution_count": 8,
   "id": "eac78750-29eb-4898-aee5-8c4ffd7f76fa",
   "metadata": {},
   "outputs": [
    {
     "name": "stdout",
     "output_type": "stream",
     "text": [
      "\n",
      "Original DataFrame\n",
      "      A      B  C  D  E\n",
      "0  foo    one  1  2  2\n",
      "1  foo    two  4  4  0\n",
      "2  bar  three  4  1  3\n",
      "3  foo    two  3  4  1\n",
      "4  bar    two  4  1  1\n",
      "5  foo    one  1  2  3\n",
      "\n",
      "Combined Groupby and Aggregate function- separate column headings\n",
      "                 C             D             E      \n",
      "          average total average total average total\n",
      "A   B                                              \n",
      "bar three     4.0     4     1.0     1     3.0     3\n",
      "    two       4.0     4     1.0     1     1.0     1\n",
      "foo one       1.0     2     2.0     4     2.5     5\n",
      "    two       3.5     7     4.0     8     0.5     1\n"
     ]
    }
   ],
   "source": [
    "df4=(df.groupby(['A', 'B']).agg([('average', 'mean'), ('total', 'sum')]))\n",
    "print(\"\\nOriginal DataFrame\\n\",df)\n",
    "print(\"\\nCombined Groupby and Aggregate function- separate column headings\\n\",df4)\n"
   ]
  },
  {
   "cell_type": "code",
   "execution_count": 9,
   "id": "83083e30-d6b0-4b71-abad-e32d82a03bd9",
   "metadata": {},
   "outputs": [
    {
     "name": "stdout",
     "output_type": "stream",
     "text": [
      "\n",
      "Original DataFrame\n",
      "      A      B  C  D  E\n",
      "0  foo    one  1  2  2\n",
      "1  foo    two  4  4  0\n",
      "2  bar  three  4  1  3\n",
      "3  foo    two  3  4  1\n",
      "4  bar    two  4  1  1\n",
      "5  foo    one  1  2  3\n",
      "\n",
      "Groupby - sum function\n",
      "      A      B  C  D  E\n",
      "0  bar  three  4  1  3\n",
      "1  bar    two  4  1  1\n",
      "2  foo    one  2  4  5\n",
      "3  foo    two  7  8  1\n",
      "\n",
      "Groupby and Aggregate-sum function\n",
      "             C   D   E\n",
      "          sum sum sum\n",
      "A   B                \n",
      "bar three   4   1   3\n",
      "    two     4   1   1\n",
      "foo one     2   4   5\n",
      "    two     7   8   1\n"
     ]
    }
   ],
   "source": [
    "df5 = df.groupby(['A', 'B'], as_index=False).sum()\n",
    "df6 = (df.groupby(['A', 'B']).agg(['sum']))\n",
    "print(\"\\nOriginal DataFrame\\n\",df)\n",
    "print(\"\\nGroupby - sum function\\n\",df5)\n",
    "print(\"\\nGroupby and Aggregate-sum function\\n\",df6)"
   ]
  },
  {
   "cell_type": "code",
   "execution_count": null,
   "id": "f404db60-6352-4467-b94c-211e6669d349",
   "metadata": {},
   "outputs": [],
   "source": []
  }
 ],
 "metadata": {
  "kernelspec": {
   "display_name": "Python 3 (ipykernel)",
   "language": "python",
   "name": "python3"
  },
  "language_info": {
   "codemirror_mode": {
    "name": "ipython",
    "version": 3
   },
   "file_extension": ".py",
   "mimetype": "text/x-python",
   "name": "python",
   "nbconvert_exporter": "python",
   "pygments_lexer": "ipython3",
   "version": "3.12.4"
  }
 },
 "nbformat": 4,
 "nbformat_minor": 5
}
