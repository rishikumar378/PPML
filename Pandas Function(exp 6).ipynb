{
 "cells": [
  {
   "cell_type": "code",
   "execution_count": 3,
   "id": "558b61b0",
   "metadata": {},
   "outputs": [
    {
     "name": "stdout",
     "output_type": "stream",
     "text": [
      "DataFrame.apply function:\n",
      "\n",
      "\n",
      "Original DataFRame:\n",
      "    P  Q\n",
      "0  2  7\n",
      "1  2  7\n",
      "2  2  7\n",
      "\n",
      "Square root of data frame:\n",
      "           P         Q\n",
      "0  1.414214  2.645751\n",
      "1  1.414214  2.645751\n",
      "2  1.414214  2.645751\n",
      "\n",
      "Sum of each column:\n",
      " P     6\n",
      "Q    21\n",
      "dtype: int64\n",
      "\n",
      "Sum of each row:\n",
      " 0    9\n",
      "1    9\n",
      "2    9\n",
      "dtype: int64\n"
     ]
    }
   ],
   "source": [
    "import pandas as pd\n",
    "import numpy as np\n",
    "print(\"DataFrame.apply function:\\n\")\n",
    "info=pd.DataFrame([[2,7]]*3,columns=['P','Q'])\n",
    "print(\"\\nOriginal DataFRame:\\n\",info)\n",
    "print(\"\\nSquare root of data frame:\\n\",info.apply(np.sqrt))\n",
    "print(\"\\nSum of each column:\\n\",info.apply(np.sum,axis=0))\n",
    "print(\"\\nSum of each row:\\n\",info.apply(np.sum,axis=1))"
   ]
  },
  {
   "cell_type": "code",
   "execution_count": 4,
   "id": "a68631a7",
   "metadata": {},
   "outputs": [
    {
     "name": "stdout",
     "output_type": "stream",
     "text": [
      "\n",
      "Original DataFRame:\n",
      "    X  Y  Z\n",
      "0  1  5  7\n",
      "1  2  7  8\n",
      "2  3  6  9\n",
      "\n",
      "Minimum and Maximum of each columns:\n",
      "\n",
      "     X  Y  Z\n",
      "min  1  5  7\n",
      "max  3  7  9\n"
     ]
    }
   ],
   "source": [
    "info=pd.DataFrame([[1,5,7],[2,7,8],[3,6,9,]],columns=['X','Y','Z'])\n",
    "print(\"\\nOriginal DataFRame:\\n\",info)\n",
    "print('\\nMinimum and Maximum of each columns:\\n')\n",
    "print(info.agg(['min','max']))"
   ]
  },
  {
   "cell_type": "code",
   "execution_count": 6,
   "id": "d7f6880e",
   "metadata": {},
   "outputs": [
    {
     "name": "stdout",
     "output_type": "stream",
     "text": [
      "\n",
      "DataFrame.Assign function:\n",
      "\n",
      "\n",
      "Original DataFRame:\n",
      "     Emp   ID\n",
      "0  Dale  123\n",
      "1  Mark  143\n"
     ]
    }
   ],
   "source": [
    "print(\"\\nDataFrame.Assign function:\\n\")\n",
    "d2=pd.DataFrame([['Dale',123],['Mark',143]],columns=['Emp','ID'])\n",
    "print(\"\\nOriginal DataFRame:\\n\",d2)\n",
    "d2['Age']=[35,40]"
   ]
  },
  {
   "cell_type": "code",
   "execution_count": 7,
   "id": "b62ade46",
   "metadata": {},
   "outputs": [
    {
     "name": "stdout",
     "output_type": "stream",
     "text": [
      "\n",
      "Adding new column\n",
      "\n",
      "\n",
      "Adding new column:\n",
      "     Emp   ID  Age   Sex\n",
      "0  Dale  123   35  Male\n",
      "1  Mark  143   40  Male\n"
     ]
    }
   ],
   "source": [
    "print(\"\\nAdding new column\\n\")\n",
    "d=d2.assign(Sex=['Male','Male'])\n",
    "print(\"\\nAdding new column:\\n\",d)"
   ]
  },
  {
   "cell_type": "code",
   "execution_count": 12,
   "id": "253bdfeb",
   "metadata": {},
   "outputs": [
    {
     "name": "stdout",
     "output_type": "stream",
     "text": [
      "\n",
      "DateFrame.Sort function:\n",
      "\n",
      "       col3      col4\n",
      "3  0.451643  1.726603\n",
      "2 -0.801712 -1.119182\n",
      "0  0.522252 -0.890346\n",
      "4 -1.323420 -0.190607\n",
      "1 -0.937496 -0.574660\n",
      "\n",
      "Sort index:\n",
      "        col3      col4\n",
      "0  0.522252 -0.890346\n",
      "1 -0.937496 -0.574660\n",
      "2 -0.801712 -1.119182\n",
      "3  0.451643  1.726603\n",
      "4 -1.323420 -0.190607\n",
      "\n",
      "Sort values:\n",
      "        col3      col4\n",
      "4 -1.323420 -0.190607\n",
      "1 -0.937496 -0.574660\n",
      "2 -0.801712 -1.119182\n",
      "3  0.451643  1.726603\n",
      "0  0.522252 -0.890346\n"
     ]
    }
   ],
   "source": [
    "print(\"\\nDateFrame.Sort function:\\n\")\n",
    "info=pd.DataFrame(np.random.randn(5,2),index=[3,2,0,4,1],columns=['col3','col4'])\n",
    "print(info)\n",
    "info2=info.sort_index()\n",
    "print(\"\\nSort index:\\n\",info2)\n",
    "info3=info.sort_values(by='col3')\n",
    "print(\"\\nSort values:\\n\",info3)"
   ]
  },
  {
   "cell_type": "code",
   "execution_count": 14,
   "id": "66b7e6c8",
   "metadata": {},
   "outputs": [
    {
     "name": "stdout",
     "output_type": "stream",
     "text": [
      "\n",
      "DataFrame.Merge function:\n",
      "\n",
      "   id    Name   sub\n",
      "0   1    Alex  sub1\n",
      "1   2     Amy  sub2\n",
      "2   3   Allen  sub4\n",
      "3   4   Alice  sub6\n",
      "4   5  Ayoung  sub5\n",
      "   id   Name   sub\n",
      "0   1  Billy  sub2\n",
      "1   2  Brain  sub4\n",
      "2   3   Bran  sub3\n",
      "3   4  Bryce  sub6\n",
      "4   5  Betty  sub5\n",
      "   id  Name_x sub_x Name_y sub_y\n",
      "0   1    Alex  sub1  Billy  sub2\n",
      "1   2     Amy  sub2  Brain  sub4\n",
      "2   3   Allen  sub4   Bran  sub3\n",
      "3   4   Alice  sub6  Bryce  sub6\n",
      "4   5  Ayoung  sub5  Betty  sub5\n"
     ]
    }
   ],
   "source": [
    "print(\"\\nDataFrame.Merge function:\\n\")\n",
    "left=pd.DataFrame({'id':[1,2,3,4,5],'Name':['Alex','Amy','Allen','Alice','Ayoung'],'sub':['sub1','sub2','sub4','sub6','sub5']})\n",
    "right=pd.DataFrame({'id':[1,2,3,4,5],'Name':['Billy','Brain','Bran','Bryce','Betty'],'sub':['sub2','sub4','sub3','sub6','sub5']})\n",
    "print(left)\n",
    "print(right)\n",
    "print(pd.merge(left,right,on='id'))"
   ]
  },
  {
   "cell_type": "code",
   "execution_count": null,
   "id": "a4ea8c26",
   "metadata": {},
   "outputs": [],
   "source": []
  }
 ],
 "metadata": {
  "kernelspec": {
   "display_name": "Python 3 (ipykernel)",
   "language": "python",
   "name": "python3"
  },
  "language_info": {
   "codemirror_mode": {
    "name": "ipython",
    "version": 3
   },
   "file_extension": ".py",
   "mimetype": "text/x-python",
   "name": "python",
   "nbconvert_exporter": "python",
   "pygments_lexer": "ipython3",
   "version": "3.11.3"
  }
 },
 "nbformat": 4,
 "nbformat_minor": 5
}
