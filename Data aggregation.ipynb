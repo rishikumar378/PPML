{
 "cells": [
  {
   "cell_type": "code",
   "execution_count": 1,
   "id": "6bd86fef-c4f8-4f53-be27-9c193bd9bfca",
   "metadata": {},
   "outputs": [
    {
     "name": "stdout",
     "output_type": "stream",
     "text": [
      "Original DataFrame\n",
      "      A    B    C\n",
      "0  1.0  2.0  3.0\n",
      "1  4.0  5.0  6.0\n",
      "2  7.0  8.0  9.0\n",
      "3  NaN  NaN  NaN\n"
     ]
    }
   ],
   "source": [
    "import pandas as pd\n",
    "import numpy as np\n",
    "df = pd.DataFrame([[1, 2, 3],\n",
    "[4, 5, 6],\n",
    "[7,8,9],\n",
    "[np.nan, np.nan, np.nan]],\n",
    "columns=['A', 'B', 'C'])\n",
    "print(\"Original DataFrame\\n\",df)"
   ]
  },
  {
   "cell_type": "code",
   "execution_count": 2,
   "id": "ae3654b3-a572-48cd-9ca2-4ff9b10e8077",
   "metadata": {},
   "outputs": [
    {
     "name": "stdout",
     "output_type": "stream",
     "text": [
      "Aggregate function: aggregate()\n",
      "         A     B     C\n",
      "sum  12.0  15.0  18.0\n",
      "Aggregate function: alias agg()\n",
      "         A     B     C\n",
      "sum  12.0  15.0  18.0\n"
     ]
    }
   ],
   "source": [
    "print(\"Aggregate function: aggregate()\\n\", df.aggregate(['sum']))\n",
    "print(\"Aggregate function: alias agg()\\n\", df.agg(['sum']))\n"
   ]
  },
  {
   "cell_type": "code",
   "execution_count": 3,
   "id": "6a005766-6f44-412a-8d6f-18e34dcd5f85",
   "metadata": {},
   "outputs": [
    {
     "name": "stdout",
     "output_type": "stream",
     "text": [
      "\n",
      "Original DataFrame\n",
      "      A    B    C\n",
      "0  1.0  2.0  3.0\n",
      "1  4.0  5.0  6.0\n",
      "2  7.0  8.0  9.0\n",
      "3  NaN  NaN  NaN\n",
      "\n",
      "Aggregate function to produce sum, min and max\n",
      "         A     B     C\n",
      "sum  12.0  15.0  18.0\n",
      "min   1.0   2.0   3.0\n",
      "max   7.0   8.0   9.0\n"
     ]
    }
   ],
   "source": [
    "a=df.agg(['sum', 'min', 'max'])\n",
    "print(\"\\nOriginal DataFrame\\n\",df)\n",
    "print(\"\\nAggregate function to produce sum, min and max\\n\",a)\n"
   ]
  },
  {
   "cell_type": "code",
   "execution_count": 5,
   "id": "21548336-1116-498b-a39d-b99bd87b6f18",
   "metadata": {},
   "outputs": [
    {
     "name": "stdout",
     "output_type": "stream",
     "text": [
      "\n",
      "Original DataFrame\n",
      "      A    B    C\n",
      "0  1.0  2.0  3.0\n",
      "1  4.0  5.0  6.0\n",
      "2  7.0  8.0  9.0\n",
      "3  NaN  NaN  NaN\n",
      "\n",
      "Different aggregations per column\n",
      "         A    B\n",
      "sum  12.0  NaN\n",
      "min   1.0  2.0\n",
      "max   NaN  8.0\n"
     ]
    }
   ],
   "source": [
    "b=df.agg({'A': ['sum', 'min'], 'B': ['min', 'max']})\n",
    "print(\"\\nOriginal DataFrame\\n\",df)\n",
    "print(\"\\nDifferent aggregations per column\\n\",b)\n"
   ]
  },
  {
   "cell_type": "code",
   "execution_count": 6,
   "id": "5c39f6fe-a27d-4779-8e82-c81ce9e72442",
   "metadata": {},
   "outputs": [
    {
     "name": "stdout",
     "output_type": "stream",
     "text": [
      "\n",
      "Original DataFrame\n",
      "      A    B    C\n",
      "0  1.0  2.0  3.0\n",
      "1  4.0  5.0  6.0\n",
      "2  7.0  8.0  9.0\n",
      "3  NaN  NaN  NaN\n",
      "\n",
      "Aggregate different functions over the columns and rename the index of the resulting DataFrame\n",
      "      A    B    C\n",
      "x  7.0  NaN  NaN\n",
      "y  NaN  2.0  NaN\n",
      "z  NaN  NaN  6.0\n"
     ]
    },
    {
     "name": "stderr",
     "output_type": "stream",
     "text": [
      "C:\\Users\\prave\\AppData\\Local\\Temp\\ipykernel_25064\\3004802585.py:1: FutureWarning: The provided callable <built-in function max> is currently using Series.max. In a future version of pandas, the provided callable will be used directly. To keep current behavior pass the string \"max\" instead.\n",
      "  c=df.agg(x=('A', max), y=('B', 'min'), z=('C', np.mean))\n",
      "C:\\Users\\prave\\AppData\\Local\\Temp\\ipykernel_25064\\3004802585.py:1: FutureWarning: The provided callable <function mean at 0x00000157C8305EE0> is currently using Series.mean. In a future version of pandas, the provided callable will be used directly. To keep current behavior pass the string \"mean\" instead.\n",
      "  c=df.agg(x=('A', max), y=('B', 'min'), z=('C', np.mean))\n"
     ]
    }
   ],
   "source": [
    "c=df.agg(x=('A', max), y=('B', 'min'), z=('C', np.mean))\n",
    "print(\"\\nOriginal DataFrame\\n\",df)\n",
    "print(\"\\nAggregate different functions over the columns and rename the index of the resulting DataFrame\\n\",c)\n"
   ]
  },
  {
   "cell_type": "code",
   "execution_count": 7,
   "id": "9b8e4af1-18ad-4e4c-ae7c-75ad6b894a2e",
   "metadata": {},
   "outputs": [
    {
     "name": "stdout",
     "output_type": "stream",
     "text": [
      "\n",
      "Original DataFrame\n",
      "      A    B    C\n",
      "0  1.0  2.0  3.0\n",
      "1  4.0  5.0  6.0\n",
      "2  7.0  8.0  9.0\n",
      "3  NaN  NaN  NaN\n",
      "\n",
      "Aggregate-Sum: row wise\n",
      " 0     6.0\n",
      "1    15.0\n",
      "2    24.0\n",
      "3     0.0\n",
      "dtype: float64\n"
     ]
    }
   ],
   "source": [
    "d=df.agg(\"sum\", axis=\"columns\")\n",
    "print(\"\\nOriginal DataFrame\\n\",df)\n",
    "print(\"\\nAggregate-Sum: row wise\\n\",d)\n"
   ]
  },
  {
   "cell_type": "code",
   "execution_count": 8,
   "id": "69ef6601-282b-49ca-8bb5-88d5066b82d2",
   "metadata": {},
   "outputs": [
    {
     "name": "stdout",
     "output_type": "stream",
     "text": [
      "\n",
      "Original DataFrame\n",
      "      A    B    C\n",
      "0  1.0  2.0  3.0\n",
      "1  4.0  5.0  6.0\n",
      "2  7.0  8.0  9.0\n",
      "3  NaN  NaN  NaN\n",
      "\n",
      "Aggregate-Sum: Column wise\n",
      " A    12.0\n",
      "B    15.0\n",
      "C    18.0\n",
      "dtype: float64\n"
     ]
    }
   ],
   "source": [
    "e=df.agg(\"sum\", axis=\"rows\")\n",
    "print(\"\\nOriginal DataFrame\\n\",df)\n",
    "print(\"\\nAggregate-Sum: Column wise\\n\", e)\n"
   ]
  },
  {
   "cell_type": "code",
   "execution_count": 9,
   "id": "9a2ccdf8-f490-4160-8d3a-ffa679058c11",
   "metadata": {},
   "outputs": [
    {
     "name": "stdout",
     "output_type": "stream",
     "text": [
      "\n",
      "Original DataFrame\n",
      "      A    B    C\n",
      "0  1.0  2.0  3.0\n",
      "1  4.0  5.0  6.0\n",
      "2  7.0  8.0  9.0\n",
      "3  NaN  NaN  NaN\n",
      "\n",
      "Summary of aggregate functions using describe()\n",
      "          A    B    C\n",
      "count  3.0  3.0  3.0\n",
      "mean   4.0  5.0  6.0\n",
      "std    3.0  3.0  3.0\n",
      "min    1.0  2.0  3.0\n",
      "25%    2.5  3.5  4.5\n",
      "50%    4.0  5.0  6.0\n",
      "75%    5.5  6.5  7.5\n",
      "max    7.0  8.0  9.0\n"
     ]
    }
   ],
   "source": [
    "print(\"\\nOriginal DataFrame\\n\",df)\n",
    "print(\"\\nSummary of aggregate functions using describe()\\n\",df.describe())"
   ]
  },
  {
   "cell_type": "code",
   "execution_count": null,
   "id": "b091a0c9-d19c-4a2b-92c3-0259afad7d51",
   "metadata": {},
   "outputs": [],
   "source": []
  }
 ],
 "metadata": {
  "kernelspec": {
   "display_name": "Python 3 (ipykernel)",
   "language": "python",
   "name": "python3"
  },
  "language_info": {
   "codemirror_mode": {
    "name": "ipython",
    "version": 3
   },
   "file_extension": ".py",
   "mimetype": "text/x-python",
   "name": "python",
   "nbconvert_exporter": "python",
   "pygments_lexer": "ipython3",
   "version": "3.12.4"
  }
 },
 "nbformat": 4,
 "nbformat_minor": 5
}
