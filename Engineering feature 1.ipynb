{
 "cells": [
  {
   "cell_type": "code",
   "execution_count": 1,
   "id": "2f02a4b8-616d-47e4-a246-5c7411336567",
   "metadata": {},
   "outputs": [],
   "source": [
    "import pandas as pd\n",
    "import numpy as np"
   ]
  },
  {
   "cell_type": "code",
   "execution_count": 4,
   "id": "0f69c675-c9fa-4976-ab85-a001c8b3335c",
   "metadata": {},
   "outputs": [
    {
     "name": "stdout",
     "output_type": "stream",
     "text": [
      "Before: \n",
      "\n",
      "    Age\n",
      "0    42\n",
      "1    15\n",
      "2    67\n",
      "3    55\n",
      "4     1\n",
      "5    29\n",
      "6    75\n",
      "7    89\n",
      "8     4\n",
      "9    10\n",
      "10   15\n",
      "11   38\n",
      "12   22\n",
      "13   77\n"
     ]
    }
   ],
   "source": [
    "df=pd.DataFrame({'Age':[42,15,67,55,1,29,75,89,4,10,15,38,22,77]})\n",
    "print(\"Before: \\n\")\n",
    "print(df)\n"
   ]
  },
  {
   "cell_type": "code",
   "execution_count": 5,
   "id": "b441d64d-3460-4c09-8e06-8c0508fc7cf6",
   "metadata": {},
   "outputs": [],
   "source": [
    "df['Label'] = pd.cut(x=df['Age'], bins=[0, 3, 17, 63, 99], labels=['Baby/Toddler', 'Child', 'Adult', 'Elderly'])"
   ]
  },
  {
   "cell_type": "code",
   "execution_count": 6,
   "id": "17a87ed8-0f0d-450f-90c9-7a30c5215099",
   "metadata": {},
   "outputs": [
    {
     "name": "stdout",
     "output_type": "stream",
     "text": [
      "After: \n",
      "\n",
      "    Age         Label\n",
      "0    42         Adult\n",
      "1    15         Child\n",
      "2    67       Elderly\n",
      "3    55         Adult\n",
      "4     1  Baby/Toddler\n",
      "5    29         Adult\n",
      "6    75       Elderly\n",
      "7    89       Elderly\n",
      "8     4         Child\n",
      "9    10         Child\n",
      "10   15         Child\n",
      "11   38         Adult\n",
      "12   22         Adult\n",
      "13   77       Elderly\n"
     ]
    }
   ],
   "source": [
    "print(\"After: \\n\")\n",
    "print(df)\n"
   ]
  },
  {
   "cell_type": "code",
   "execution_count": 7,
   "id": "7172df39-b3e8-4f41-a3f2-985195ae5171",
   "metadata": {},
   "outputs": [
    {
     "name": "stdout",
     "output_type": "stream",
     "text": [
      "Categories: \n",
      " \n",
      "Label\n",
      "Adult           5\n",
      "Child           4\n",
      "Elderly         4\n",
      "Baby/Toddler    1\n",
      "Name: count, dtype: int64\n"
     ]
    }
   ],
   "source": [
    "print(\"Categories: \\n \")\n",
    "print(df['Label'].value_counts())"
   ]
  },
  {
   "cell_type": "code",
   "execution_count": null,
   "id": "d0506530-895a-4e60-947b-bb52d186a3ae",
   "metadata": {},
   "outputs": [],
   "source": []
  }
 ],
 "metadata": {
  "kernelspec": {
   "display_name": "Python 3 (ipykernel)",
   "language": "python",
   "name": "python3"
  },
  "language_info": {
   "codemirror_mode": {
    "name": "ipython",
    "version": 3
   },
   "file_extension": ".py",
   "mimetype": "text/x-python",
   "name": "python",
   "nbconvert_exporter": "python",
   "pygments_lexer": "ipython3",
   "version": "3.12.4"
  }
 },
 "nbformat": 4,
 "nbformat_minor": 5
}
