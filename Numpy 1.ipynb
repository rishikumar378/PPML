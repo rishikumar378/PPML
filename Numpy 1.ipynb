{
 "cells": [
  {
   "cell_type": "code",
   "execution_count": 1,
   "id": "09a8b5c5-4512-4ee4-8897-15e7f73f0ad4",
   "metadata": {},
   "outputs": [
    {
     "name": "stdout",
     "output_type": "stream",
     "text": [
      "\n",
      "An array initialized with all zeros:\n",
      " [[0. 0. 0. 0.]\n",
      " [0. 0. 0. 0.]\n",
      " [0. 0. 0. 0.]]\n",
      "\n",
      "An array initialized with all 6s.\n",
      " [[6 6 6]\n",
      " [6 6 6]\n",
      " [6 6 6]]\n",
      "\n",
      "A random array:\n",
      " [[0.91160737 0.18982503]\n",
      " [0.61902673 0.40991654]]\n"
     ]
    }
   ],
   "source": [
    "import numpy as np\n",
    "a = np.array([[1, 2, 4], [5, 8, 7]])\n",
    "b = np.zeros((3, 4))\n",
    "print (\"\\nAn array initialized with all zeros:\\n\", b)\n",
    "c = np.full((3, 3), 6)\n",
    "print (\"\\nAn array initialized with all 6s.\\n\", c)\n",
    "d = np.random.random((2, 2))\n",
    "print (\"\\nA random array:\\n\", d)\n"
   ]
  },
  {
   "cell_type": "code",
   "execution_count": 3,
   "id": "1e1eebec-9b17-4520-845d-3fae0b4b8858",
   "metadata": {},
   "outputs": [
    {
     "name": "stdout",
     "output_type": "stream",
     "text": [
      "\n",
      "A sequential array with steps of 5:\n",
      " [ 0  5 10 15 20 25]\n",
      "\n",
      "Original array:\n",
      " [[1 2 3 4]\n",
      " [5 2 4 2]\n",
      " [1 2 0 1]]\n",
      "Reshaped array[4,3]:\n",
      " [[1 2 3]\n",
      " [4 5 2]\n",
      " [4 2 1]\n",
      " [2 0 1]]\n",
      "\n",
      "Original array:\n",
      " [[1 2 3 4]\n",
      " [5 2 4 2]\n",
      " [1 2 0 1]]\n",
      "Fattened array:\n",
      " [1 2 3 4 5 2 4 2 1 2 0 1]\n",
      "\n",
      "No. of dimensions: 2\n",
      "\n",
      "Shape of array:  (3, 4)\n"
     ]
    }
   ],
   "source": [
    "e = np.arange(0, 30, 5)\n",
    "print (\"\\nA sequential array with steps of 5:\\n\", e)\n",
    "arr = np.array([[1, 2, 3, 4],\n",
    "[5, 2, 4, 2],\n",
    "[1, 2, 0, 1]])\n",
    "newarr = arr.reshape(4, 3)\n",
    "print (\"\\nOriginal array:\\n\", arr)\n",
    "print (\"Reshaped array[4,3]:\\n\", newarr)\n",
    "flarr=arr.flatten()\n",
    "print(\"\\nOriginal array:\\n\", arr)\n",
    "print (\"Fattened array:\\n\", flarr)\n",
    "#Printing array dimensions (axes)\n",
    "print(\"\\nNo. of dimensions:\", arr.ndim)\n",
    "print(\"\\nShape of array: \", arr.shape)\n"
   ]
  },
  {
   "cell_type": "code",
   "execution_count": 4,
   "id": "03ace9e8-30f3-4dc0-9ad6-de20d3c331f6",
   "metadata": {},
   "outputs": [
    {
     "name": "stdout",
     "output_type": "stream",
     "text": [
      "\n",
      "Size of array:  12\n",
      "\n",
      "Array stores elements of type:  int64\n",
      "\n",
      "Converted array elemnets:\n",
      " [[1. 2. 3. 4.]\n",
      " [5. 2. 4. 2.]\n",
      " [1. 2. 0. 1.]]\n",
      "Converted array type: float32\n"
     ]
    }
   ],
   "source": [
    "print(\"\\nSize of array: \", arr.size)\n",
    "print(\"\\nArray stores elements of type: \", arr.dtype)\n",
    "newtype=arr.astype('f')\n",
    "print(\"\\nConverted array elemnets:\\n\", newtype)\n",
    "print(\"Converted array type:\", newtype.dtype)"
   ]
  },
  {
   "cell_type": "code",
   "execution_count": null,
   "id": "d1b9ffdc-a02c-4a81-8b5c-7c54e7edfc61",
   "metadata": {},
   "outputs": [],
   "source": []
  }
 ],
 "metadata": {
  "kernelspec": {
   "display_name": "Python 3 (ipykernel)",
   "language": "python",
   "name": "python3"
  },
  "language_info": {
   "codemirror_mode": {
    "name": "ipython",
    "version": 3
   },
   "file_extension": ".py",
   "mimetype": "text/x-python",
   "name": "python",
   "nbconvert_exporter": "python",
   "pygments_lexer": "ipython3",
   "version": "3.12.4"
  }
 },
 "nbformat": 4,
 "nbformat_minor": 5
}
