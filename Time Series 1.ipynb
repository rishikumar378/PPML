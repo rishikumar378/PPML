{
 "cells": [
  {
   "cell_type": "code",
   "execution_count": 1,
   "id": "2cf8b72b-8a1c-4f08-a4cf-a8a3bdfe58c4",
   "metadata": {},
   "outputs": [],
   "source": [
    "import datetime\n"
   ]
  },
  {
   "cell_type": "code",
   "execution_count": 2,
   "id": "9b9ea285-4ea4-44ec-9848-4f23cc46b701",
   "metadata": {},
   "outputs": [
    {
     "name": "stdout",
     "output_type": "stream",
     "text": [
      "today-now function:  2024-11-20 13:11:06.520564\n"
     ]
    }
   ],
   "source": [
    "res=datetime.datetime.now()\n",
    "print(\"today-now function: \",res)"
   ]
  },
  {
   "cell_type": "code",
   "execution_count": 4,
   "id": "acfd7d14-8834-4673-ac4d-e5cc32169b91",
   "metadata": {},
   "outputs": [
    {
     "name": "stdout",
     "output_type": "stream",
     "text": [
      "\n",
      "today:  2024-11-20 13:11:27.282001\n"
     ]
    }
   ],
   "source": [
    "today=datetime.datetime.today()\n",
    "print(\"\\ntoday: \",today)"
   ]
  },
  {
   "cell_type": "code",
   "execution_count": 5,
   "id": "6607987d-7bc5-4f39-95ce-e266a4ae864c",
   "metadata": {},
   "outputs": [
    {
     "name": "stdout",
     "output_type": "stream",
     "text": [
      "\n",
      "tomorrow:  2024-11-22 13:11:27.282001\n"
     ]
    }
   ],
   "source": [
    "tomorrow=today+datetime.timedelta(days=2)\n",
    "print(\"\\ntomorrow: \",tomorrow)"
   ]
  },
  {
   "cell_type": "code",
   "execution_count": 7,
   "id": "64a42c5f-baca-4238-971a-ca82223bd2b3",
   "metadata": {},
   "outputs": [
    {
     "name": "stdout",
     "output_type": "stream",
     "text": [
      "\n",
      "yesterday:  2024-11-18 13:11:27.282001\n"
     ]
    }
   ],
   "source": [
    "yesterday=today-datetime.timedelta(days=2)\n",
    "print(\"\\nyesterday: \",yesterday)\n"
   ]
  },
  {
   "cell_type": "code",
   "execution_count": 8,
   "id": "c20dc41b-c8fc-4210-9cac-014be287db72",
   "metadata": {},
   "outputs": [
    {
     "name": "stdout",
     "output_type": "stream",
     "text": [
      "\n",
      "date format (2020,6,8,23,10,25,404040]:  2020-06-08 23:10:25.404040\n"
     ]
    }
   ],
   "source": [
    "res=datetime.datetime.now()\n",
    "res1=datetime.datetime(2020,6,8,23,10,25,404040)\n",
    "print(\"\\ndate format (2020,6,8,23,10,25,404040]: \",res1)"
   ]
  },
  {
   "cell_type": "code",
   "execution_count": 9,
   "id": "fa7433f3-1e12-4388-a9b0-e8a7ad23dcc9",
   "metadata": {},
   "outputs": [
    {
     "name": "stdout",
     "output_type": "stream",
     "text": [
      "\n",
      "Replacing date: 2002-12-31 2002-12-26\n"
     ]
    }
   ],
   "source": [
    "from datetime import date\n",
    "d = date(2002, 12, 31)\n",
    "print(\"\\nReplacing date:\", d, d.replace(day=26))\n"
   ]
  },
  {
   "cell_type": "code",
   "execution_count": 10,
   "id": "5ffcfbd2-2e28-4c1f-a582-eea6bfa98a49",
   "metadata": {},
   "outputs": [
    {
     "name": "stdout",
     "output_type": "stream",
     "text": [
      "\n",
      "Day and Month: 2022-10-13 Thu Oct 13 00:00:00 2022\n"
     ]
    }
   ],
   "source": [
    "t=date(2022, 10, 13)\n",
    "d=date(2022, 10, 13).ctime()\n",
    "print(\"\\nDay and Month:\",t,d)"
   ]
  },
  {
   "cell_type": "code",
   "execution_count": 11,
   "id": "ede0f188-c20b-4b0a-b127-ea42ac4b55f0",
   "metadata": {},
   "outputs": [
    {
     "name": "stdout",
     "output_type": "stream",
     "text": [
      "\n",
      "Today: 2024-11-20\n",
      "Current year: 2024\n",
      "Current month: 11\n",
      "Current day: 20\n"
     ]
    }
   ],
   "source": [
    "today = date.today()\n",
    "print(\"\\nToday:\",today)\n",
    "print(\"Current year:\", today.year)\n",
    "print(\"Current month:\", today.month)\n",
    "print(\"Current day:\", today.day)"
   ]
  },
  {
   "cell_type": "code",
   "execution_count": null,
   "id": "4a5f99a2-8e8e-4d31-a5cd-149ee108a100",
   "metadata": {},
   "outputs": [],
   "source": []
  }
 ],
 "metadata": {
  "kernelspec": {
   "display_name": "Python 3 (ipykernel)",
   "language": "python",
   "name": "python3"
  },
  "language_info": {
   "codemirror_mode": {
    "name": "ipython",
    "version": 3
   },
   "file_extension": ".py",
   "mimetype": "text/x-python",
   "name": "python",
   "nbconvert_exporter": "python",
   "pygments_lexer": "ipython3",
   "version": "3.12.4"
  }
 },
 "nbformat": 4,
 "nbformat_minor": 5
}
