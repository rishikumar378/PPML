{
 "cells": [
  {
   "cell_type": "code",
   "execution_count": 3,
   "id": "24e5134b",
   "metadata": {},
   "outputs": [
    {
     "name": "stdout",
     "output_type": "stream",
     "text": [
      "Original array: [1 2 3 4 5 4 4]\n",
      "\n",
      "Indexes where the value is 4: (array([3, 5, 6], dtype=int64),)\n"
     ]
    }
   ],
   "source": [
    "import numpy as np \n",
    "arr = np.array([1, 2, 3, 4, 5, 4, 4])\n",
    "print(\"Original array:\",arr)\n",
    "x = np.where(arr == 4)\n",
    "print(\"\\nIndexes where the value is 4:\",x)"
   ]
  },
  {
   "cell_type": "code",
   "execution_count": 9,
   "id": "7ff5db97",
   "metadata": {},
   "outputs": [
    {
     "name": "stdout",
     "output_type": "stream",
     "text": [
      "Original array: [1 2 3 4 5 6 7 8]\n",
      "\n",
      "Indexes where the values are even: (array([1, 3, 5, 7], dtype=int64),)\n"
     ]
    }
   ],
   "source": [
    "arr = np.array([1, 2, 3, 4, 5, 6, 7, 8])\n",
    "x = np.where(arr%2 == 0)\n",
    "print(\"Original array:\",arr)\n",
    "print(\"\\nIndexes where the values are even:\",x) \n"
   ]
  },
  {
   "cell_type": "code",
   "execution_count": 10,
   "id": "6f949363",
   "metadata": {},
   "outputs": [
    {
     "name": "stdout",
     "output_type": "stream",
     "text": [
      "\n",
      "Original array: [3 2 0 1]\n",
      "\n",
      "Sorted array: [0 1 2 3]\n"
     ]
    }
   ],
   "source": [
    "arr = np.array([3, 2, 0, 1])\n",
    "print(\"\\nOriginal array:\",arr)\n",
    "print(\"\\nSorted array:\",np.sort(arr))"
   ]
  },
  {
   "cell_type": "code",
   "execution_count": 11,
   "id": "a686e0cd",
   "metadata": {},
   "outputs": [
    {
     "name": "stdout",
     "output_type": "stream",
     "text": [
      "\n",
      "Original array: [41 42 43 44]\n",
      "\n",
      "Filter index: [True, False, True, False]\n",
      "\n",
      "Filter array: [41 43]\n"
     ]
    }
   ],
   "source": [
    "arr = np.array([41, 42, 43, 44])\n",
    "x = [True, False, True, False]\n",
    "newarr = arr[x]\n",
    "print(\"\\nOriginal array:\",arr)\n",
    "print(\"\\nFilter index:\",x)\n",
    "print(\"\\nFilter array:\",newarr)"
   ]
  },
  {
   "cell_type": "code",
   "execution_count": 12,
   "id": "4d55f0f7",
   "metadata": {},
   "outputs": [
    {
     "name": "stdout",
     "output_type": "stream",
     "text": [
      "\n",
      "Original array: [41 42 43 44]\n",
      "\n",
      "Filter index: [True, False, True, False]\n",
      "\n",
      "Filter array: [41 43]\n"
     ]
    }
   ],
   "source": [
    "arr = np.array([41, 42, 43, 44])\n",
    "x = [True, False, True, False]\n",
    "newarr = arr[x]\n",
    "print(\"\\nOriginal array:\",arr)\n",
    "print(\"\\nFilter index:\",x)\n",
    "print(\"\\nFilter array:\",newarr)"
   ]
  },
  {
   "cell_type": "code",
   "execution_count": 16,
   "id": "d8ad71af",
   "metadata": {},
   "outputs": [
    {
     "name": "stdout",
     "output_type": "stream",
     "text": [
      "Original arrays\n",
      "[10 20 30 40 50]\n",
      "[ 2  4  5  8 10]\n",
      "\n",
      "Vector addition\n",
      "[12 24 35 48 60]\n",
      "\n",
      "Vector subtraction\n",
      "[ 8 16 25 32 40]\n",
      "\n",
      "Vector multiplication\n",
      "[ 20  80 150 320 500]\n",
      "\n",
      "Vector division\n",
      "[5. 5. 6. 5. 5.]\n",
      "\n",
      "Vector Dot product\n",
      "1070\n"
     ]
    }
   ],
   "source": [
    "arr1=[10,20,30,40,50]\n",
    "arr2=[2,4,5,8,10]\n",
    "a=np.array(arr1)\n",
    "b=np.array(arr2)\n",
    "print(\"Original arrays\")\n",
    "print(a)\n",
    "print(b)\n",
    "print(\"\\nVector addition\")\n",
    "print(a+b)\n",
    "print(\"\\nVector subtraction\")\n",
    "print(a-b)\n",
    "print(\"\\nVector multiplication\")\n",
    "print(a*b)\n",
    "print(\"\\nVector division\")\n",
    "print(a/b)\n",
    "print(\"\\nVector Dot product\")\n",
    "print(a.dot(b))"
   ]
  },
  {
   "cell_type": "code",
   "execution_count": null,
   "id": "25f983f9",
   "metadata": {},
   "outputs": [],
   "source": []
  }
 ],
 "metadata": {
  "kernelspec": {
   "display_name": "Python 3 (ipykernel)",
   "language": "python",
   "name": "python3"
  },
  "language_info": {
   "codemirror_mode": {
    "name": "ipython",
    "version": 3
   },
   "file_extension": ".py",
   "mimetype": "text/x-python",
   "name": "python",
   "nbconvert_exporter": "python",
   "pygments_lexer": "ipython3",
   "version": "3.11.3"
  }
 },
 "nbformat": 4,
 "nbformat_minor": 5
}
