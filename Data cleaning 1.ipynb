{
 "cells": [
  {
   "cell_type": "code",
   "execution_count": 1,
   "id": "2742b1e2",
   "metadata": {},
   "outputs": [],
   "source": [
    "import numpy as np\n",
    "import pandas as pd"
   ]
  },
  {
   "cell_type": "code",
   "execution_count": 2,
   "id": "93cf95dc",
   "metadata": {},
   "outputs": [
    {
     "name": "stdout",
     "output_type": "stream",
     "text": [
      "    one  three\n",
      "0   700  20000\n",
      "1  2000   3900\n",
      "2   890    809\n",
      "3    19     80\n",
      "4   300   1999\n"
     ]
    }
   ],
   "source": [
    "df = pd.DataFrame({'one':[1000,2000,700,800,300],'three':[20000,3900,809,80,1999]})\n",
    "print(df.replace({1000:700,3000:3900,700:890,800:19,320:1999}))"
   ]
  },
  {
   "cell_type": "code",
   "execution_count": 3,
   "id": "5b3edad7",
   "metadata": {},
   "outputs": [
    {
     "name": "stdout",
     "output_type": "stream",
     "text": [
      "0    False\n",
      "1    False\n",
      "2    False\n",
      "3    False\n",
      "4    False\n",
      "Name: three, dtype: bool\n"
     ]
    }
   ],
   "source": [
    "print(df['three'].isnull())"
   ]
  },
  {
   "cell_type": "code",
   "execution_count": 16,
   "id": "ace60c43",
   "metadata": {},
   "outputs": [
    {
     "name": "stdout",
     "output_type": "stream",
     "text": [
      "        one       two\n",
      "a -1.353290  1.098322\n",
      "g       NaN       NaN\n",
      "b       NaN       NaN\n",
      "c -0.560956  0.555572\n",
      "d -0.428047 -2.348152\n"
     ]
    }
   ],
   "source": [
    "df1 = pd.DataFrame(np.random.randn(3,2),index=['a','c','d'],columns=['one','two'])\n",
    "df1=df1.reindex(['a','g','b','c','d'])\n",
    "print(df1)"
   ]
  },
  {
   "cell_type": "code",
   "execution_count": 17,
   "id": "78de0fe1",
   "metadata": {},
   "outputs": [
    {
     "name": "stdout",
     "output_type": "stream",
     "text": [
      "        one       two\n",
      "a -1.353290  1.098322\n",
      "g -1.353290  1.098322\n",
      "b -1.353290  1.098322\n",
      "c -0.560956  0.555572\n",
      "d -0.428047 -2.348152\n"
     ]
    }
   ],
   "source": [
    "print(df1.fillna(method='pad'))"
   ]
  },
  {
   "cell_type": "code",
   "execution_count": 18,
   "id": "ed4a6f9e",
   "metadata": {},
   "outputs": [
    {
     "name": "stdout",
     "output_type": "stream",
     "text": [
      "        one       two\n",
      "a -1.353290  1.098322\n",
      "g -0.560956  0.555572\n",
      "b -0.560956  0.555572\n",
      "c -0.560956  0.555572\n",
      "d -0.428047 -2.348152\n"
     ]
    }
   ],
   "source": [
    "print(df1.fillna(method='bfill'))"
   ]
  },
  {
   "cell_type": "code",
   "execution_count": 19,
   "id": "0771bc45",
   "metadata": {},
   "outputs": [],
   "source": [
    "df1.to_excel(\"d:\\exercise2.xlsx\")"
   ]
  },
  {
   "cell_type": "code",
   "execution_count": 22,
   "id": "56ea95cb",
   "metadata": {},
   "outputs": [
    {
     "name": "stdout",
     "output_type": "stream",
     "text": [
      "        one       two\n",
      "a -1.353290  1.098322\n",
      "b       NaN       NaN\n",
      "c -0.560956  0.555572\n",
      "d -0.428047 -2.348152\n"
     ]
    }
   ],
   "source": [
    "df1.drop(['g'],axis=0,inplace=True)\n",
    "print(df1)"
   ]
  },
  {
   "cell_type": "code",
   "execution_count": 25,
   "id": "1d44b554",
   "metadata": {},
   "outputs": [
    {
     "name": "stdout",
     "output_type": "stream",
     "text": [
      "        one       two\n",
      "a -1.353290  1.098322\n",
      "b -0.560956  0.555572\n",
      "c -0.560956  0.555572\n",
      "d -0.428047 -2.348152\n"
     ]
    }
   ],
   "source": [
    "df1=df1.fillna(method='bfill')\n",
    "print(df1)"
   ]
  },
  {
   "cell_type": "markdown",
   "id": "14217c53",
   "metadata": {},
   "source": [
    "df3=pd.read_excel(\"d:\\exercise2.xlsx\")\n",
    "print(df3)\n"
   ]
  },
  {
   "cell_type": "code",
   "execution_count": 26,
   "id": "bbf1bccf",
   "metadata": {},
   "outputs": [
    {
     "name": "stdout",
     "output_type": "stream",
     "text": [
      "  Unnamed: 0       one       two\n",
      "0          a -1.353290  1.098322\n",
      "1          g       NaN       NaN\n",
      "2          b       NaN       NaN\n",
      "3          c -0.560956  0.555572\n",
      "4          d -0.428047 -2.348152\n"
     ]
    }
   ],
   "source": [
    "df3 =pd.read_excel(\"d:\\exercise2.xlsx\")\n",
    "print(df3)"
   ]
  },
  {
   "cell_type": "code",
   "execution_count": 27,
   "id": "68f95b37",
   "metadata": {},
   "outputs": [
    {
     "ename": "SyntaxError",
     "evalue": "EOL while scanning string literal (1465290674.py, line 1)",
     "output_type": "error",
     "traceback": [
      "\u001b[1;36m  Input \u001b[1;32mIn [27]\u001b[1;36m\u001b[0m\n\u001b[1;33m    new=df[\"\"-1.353290\"].isin(['one'])\u001b[0m\n\u001b[1;37m                                      ^\u001b[0m\n\u001b[1;31mSyntaxError\u001b[0m\u001b[1;31m:\u001b[0m EOL while scanning string literal\n"
     ]
    }
   ],
   "source": [
    "new=df[\"\"-1.353290\"].isin(['one'])"
   ]
  },
  {
   "cell_type": "code",
   "execution_count": null,
   "id": "3d803668",
   "metadata": {},
   "outputs": [],
   "source": []
  }
 ],
 "metadata": {
  "kernelspec": {
   "display_name": "Python 3 (ipykernel)",
   "language": "python",
   "name": "python3"
  },
  "language_info": {
   "codemirror_mode": {
    "name": "ipython",
    "version": 3
   },
   "file_extension": ".py",
   "mimetype": "text/x-python",
   "name": "python",
   "nbconvert_exporter": "python",
   "pygments_lexer": "ipython3",
   "version": "3.9.12"
  }
 },
 "nbformat": 4,
 "nbformat_minor": 5
}
